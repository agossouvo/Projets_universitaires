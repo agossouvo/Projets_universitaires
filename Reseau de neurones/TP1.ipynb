{
 "cells": [
  {
   "cell_type": "markdown",
   "metadata": {},
   "source": [
    "<h1><center> TP1 : Fonctions de base pour l'apprentissage supervisé. </center></h1>\n",
    "\n",
    "Le but de ce premier TP est de se familiariser avec la classe 'sklearn' de Python. En particulier, nous présentons les algorithmes d'apprentissage supervisé les plus populaires.\n",
    "\n",
    "La PARTIE 1 est une liste de commandes qui doivent être suivies étape par étape. La PARTIE 2 est un problème ouvert pour lequel nous attendons votre créativité! "
   ]
  },
  {
   "cell_type": "markdown",
   "metadata": {},
   "source": [
    "# Packages importés"
   ]
  },
  {
   "cell_type": "code",
   "execution_count": 2,
   "metadata": {},
   "outputs": [],
   "source": [
    "import numpy as np\n",
    "import matplotlib.pyplot as plt\n",
    "from sklearn.neighbors import KNeighborsClassifier\n",
    "from sklearn.model_selection import train_test_split, GridSearchCV\n",
    "from sklearn.pipeline import Pipeline\n",
    "from sklearn.svm import LinearSVC\n",
    "from sklearn.linear_model import LogisticRegression\n",
    "from sklearn.preprocessing import MaxAbsScaler, StandardScaler,MinMaxScaler\n",
    "from sklearn.metrics import balanced_accuracy_score,zero_one_loss,log_loss,hinge_loss, make_scorer, confusion_matrix\n",
    "from sklearn.ensemble import RandomForestClassifier\n",
    "\n",
    "\n",
    "\n",
    "%matplotlib notebook"
   ]
  },
  {
   "cell_type": "markdown",
   "metadata": {},
   "source": [
    "#  PARTIE 1 -- MNIST\n"
   ]
  },
  {
   "cell_type": "markdown",
   "metadata": {},
   "source": [
    "Dans la première partie du TP1, nous avons les objectifs suivants:\n",
    "1. Appliquer des algorithmes de ML standard sur des données de référence standards\n",
    "2. Apprendre les moyens de base de visualisation de données\n",
    "3. Se familiariser avec GridSearchCV et Pipeline de sklearn"
   ]
  },
  {
   "cell_type": "markdown",
   "metadata": {
    "collapsed": true
   },
   "source": [
    "# Chargement des données"
   ]
  },
  {
   "cell_type": "markdown",
   "metadata": {},
   "source": [
    "L'ensemble de données MNIST se compose d'images en noir et blanc de chiffres manuscrits de $0$ à $9$ de taille $28 \\times 28$.\n",
    "Dans cet exercice, nous travaillerons avec une petite partie du jeu de données MNIST original. \n",
    "\n",
    "Si vous êtes intéressé par l'ensemble de données, exécutez les commandes suivantes \n",
    "```python\n",
    "from sklearn.datasets import fetch_mldata\n",
    "mnist = fetch_mldata('MNIST original', data_home=custom_data_home)\n",
    "```\n",
    "\n",
    "Ainsi, les observations $(X_1, Y_1), \\ldots, (X_n, Y_n)$ sont telles que $X_i \\in \\mathbb{R}^{784}$ and $Y_i \\in \\{0, \\ldots, 9\\}$. Pour être plus précis, chaque composante du vecteur $X_i$ est un nombre entre $0$ et $255$, qui désigne le niveau de gris. \n",
    "\n",
    "Le but initial est de construire un classifier $ \\hat g $, qui reçoit une nouvelle image $ X $ et renvoie le nombre présent sur l'image."
   ]
  },
  {
   "cell_type": "code",
   "execution_count": 3,
   "metadata": {},
   "outputs": [
    {
     "name": "stdout",
     "output_type": "stream",
     "text": [
      "Train data contains: 2000 samples of dimension 784\n",
      "Test data contains: 200 samples\n"
     ]
    }
   ],
   "source": [
    "X_train = np.load('data/mnist1_features_train.npy', allow_pickle=True)\n",
    "y_train = np.load('data/mnist1_labels_train.npy', allow_pickle=True)\n",
    "X_test = np.load('data/mnist1_features_test.npy', allow_pickle=True)\n",
    "y_test = np.load('data/mnist1_labels_test.npy', allow_pickle=True)\n",
    "\n",
    "n_samples, n_features = X_train.shape # extraire les dimensions de la matrice de conception \n",
    "print('Train data contains: {} samples of dimension {}'.format(n_samples, n_features))\n",
    "print('Test data contains: {} samples'.format(X_test.shape[0]))"
   ]
  },
  {
   "cell_type": "markdown",
   "metadata": {},
   "source": [
    "# Regarder les données"
   ]
  },
  {
   "cell_type": "markdown",
   "metadata": {},
   "source": [
    "Puisque chaque observation est en fait une image, nous pouvons la visualiser."
   ]
  },
  {
   "cell_type": "code",
   "execution_count": 4,
   "metadata": {},
   "outputs": [
    {
     "data": {
      "image/png": "[encoded data removed]",
      "text/plain": [
       "<Figure size 432x288 with 10 Axes>"
      ]
     },
     "metadata": {
      "needs_background": "light"
     },
     "output_type": "display_data"
    }
   ],
   "source": [
    "axes = plt.subplots(1, 10)[1]  # crée une grille de 10 plots\n",
    "\n",
    "# Plus de détails sur la fonction zip() se trouvent ici https://docs.python.org/3.3/library/functions.html#zip\n",
    "images_and_labels = list(zip(X_train, y_train)) \n",
    "for ax, (image, label) in zip(axes, images_and_labels[:10]):\n",
    "    ax.set_axis_off()\n",
    "    ax.imshow(image.reshape((28, 28)), cmap=plt.cm.gray_r, interpolation='nearest')\n",
    "    ax.set_title('{}'.format(label))"
   ]
  },
  {
   "cell_type": "code",
   "execution_count": 5,
   "metadata": {},
   "outputs": [
    {
     "name": "stdout",
     "output_type": "stream",
     "text": [
      "Number of 0s in the train dataset is 196\n",
      "Number of 1s in the train dataset is 226\n",
      "Number of 2s in the train dataset is 214\n",
      "Number of 3s in the train dataset is 211\n",
      "Number of 4s in the train dataset is 187\n",
      "Number of 5s in the train dataset is 179\n",
      "Number of 6s in the train dataset is 175\n",
      "Number of 7s in the train dataset is 225\n",
      "Number of 8s in the train dataset is 186\n",
      "Number of 9s in the train dataset is 201\n"
     ]
    }
   ],
   "source": [
    "for i in range(10):\n",
    "    print('Number of {}s in the train dataset is {}'.format(i, np.sum([y_train == str(i)])))"
   ]
  },
  {
   "cell_type": "markdown",
   "metadata": {},
   "source": [
    "De ce qui précède, nous concluons que l'ensemble de données est plutôt équilibré, c'est-à-dire que chaque classe contient une quantité similaire d'observations. La classe la plus rare est $ y = 6 $ avec des exemples $ 175 $ et la classe la plus courante est $ y = 2 $ avec des exemples $ 226 $ "
   ]
  },
  {
   "cell_type": "markdown",
   "metadata": {},
   "source": [
    "# Validation Croisée (Cross-validation) avec GridSearchCV"
   ]
  },
  {
   "cell_type": "markdown",
   "metadata": {},
   "source": [
    "\n",
    "**Question:** Expliquez ce qui se passe lorsque vous exécutez la commande \n",
    "```python\n",
    "clf.fit(X_train, y_train)\n",
    "```\n",
    "Quelle est la complexité de chacun des trois cas suivants? "
   ]
  },
  {
   "cell_type": "markdown",
   "metadata": {},
   "source": [
    "l'exécution de clf.fit(X_train, y_train) permet d'appliquer l'algorithme KNN à la base train, et de construire le modèle"
   ]
  },
  {
   "cell_type": "code",
   "execution_count": 5,
   "metadata": {},
   "outputs": [
    {
     "name": "stdout",
     "output_type": "stream",
     "text": [
      "Returned hyperparameter: {'n_neighbors': 1}\n",
      "Best classification accuracy in train is: 0.891497944721333\n",
      "Classification accuracy on test is: 0.875\n"
     ]
    }
   ],
   "source": [
    "# GridSearchCV avec kNN : a cas simple\n",
    "knn = KNeighborsClassifier() # definir un classifier\n",
    "parameters = {'n_neighbors': [1, 2, 3, 4, 5]} # definir l'espace des paramètres\n",
    "clf = GridSearchCV(knn, parameters, cv=3)\n",
    "clf.fit(X_train, y_train)\n",
    "\n",
    "print('Returned hyperparameter: {}'.format(clf.best_params_))\n",
    "print('Best classification accuracy in train is: {}'.format(clf.best_score_))\n",
    "print('Classification accuracy on test is: {}'.format(clf.score(X_test, y_test)))"
   ]
  },
  {
   "cell_type": "markdown",
   "metadata": {},
   "source": [
    "**Question:** Quelle est la précision sur l'échantillon test? Quelle serait la précision si on prédisait le label de manière aléatoire? "
   ]
  },
  {
   "cell_type": "markdown",
   "metadata": {},
   "source": [
    "**Reponse :**\n",
    "le taux d'exactitude  est de 0.875.\n",
    "Il serait de 0.1 si on pédisiait de manière  aléatoire le label puisque on a 10 classes dans notre base. et chaque classe aura une probabilité de 1/10 d'être tiré"
   ]
  },
  {
   "cell_type": "markdown",
   "metadata": {},
   "source": [
    "\n",
    "**Question:** Qu'est-ce que le ``` LinearSVC()``` classifier ? Quel noyau (kernel) a-t-on utilisé ? Que représente le paramètre ``C'' ? (c'est une question délicate, essayez de trouver la réponse en ligne) "
   ]
  },
  {
   "cell_type": "markdown",
   "metadata": {},
   "source": [
    "**Reponse :** Les machines à vecteurs de support (SVM : Support Vector Machines) sont une classe de méthodes d’apprentissage statistique basées sur le principe de la maximisation de la marge (séparation des classes). Il existe plusieurs formulations (linéaires, versions à noyaux) qui peuvent s’appliquer sur des données séparables (linéairement) mais aussi sur des données non séparables.\n",
    "LinearSVC() est la formulation linéaire des SVM\n",
    "\n",
    "Le noyau utilisé est `Kernel=Linear`. Le `C` est l'un des hyperParamètres utilisé lors de la validation qui consiste à jauger le taux ou la marge d'erreur. On cherche à minimiser le parametre ` C` le plus possible (par exemple la distance en les points et une droite).\n",
    "\n",
    "C représente la base logarithme de 17 valeurs comprises entre 2exposant-8 et 2exposant8. Il permet d'intégrer plusieurs paramètres dans le modèle pour l'optimiser"
   ]
  },
  {
   "cell_type": "markdown",
   "metadata": {},
   "source": [
    "**Question:** Quelle est la sortie de ```np.logspace(-8, 8, 17, base=2)``` ? Plus généralement, quel est le résultat de ```np.logspace(-a, b, k, base=m)``` ?"
   ]
  },
  {
   "cell_type": "markdown",
   "metadata": {},
   "source": [
    "**Reponse:** Cela crée un vecteur contenant 17 points en base de 2 entre [2^-8  2^8]. De ce fait, pour `np.logspace(-a, b, k, base=m)`on aurait un vecteur de k-element(s) en base de m dans un intervalle [-a, b]"
   ]
  },
  {
   "cell_type": "code",
   "execution_count": 7,
   "metadata": {},
   "outputs": [
    {
     "data": {
      "text/plain": [
       "array([3.90625e-03, 7.81250e-03, 1.56250e-02, 3.12500e-02, 6.25000e-02,\n",
       "       1.25000e-01, 2.50000e-01, 5.00000e-01, 1.00000e+00, 2.00000e+00,\n",
       "       4.00000e+00, 8.00000e+00, 1.60000e+01, 3.20000e+01, 6.40000e+01,\n",
       "       1.28000e+02, 2.56000e+02])"
      ]
     },
     "execution_count": 7,
     "metadata": {},
     "output_type": "execute_result"
    }
   ],
   "source": [
    "np.logspace(-8, 8, 17, base=2)"
   ]
  },
  {
   "cell_type": "code",
   "execution_count": 8,
   "metadata": {},
   "outputs": [
    {
     "data": {
      "text/plain": [
       "array([5.95374181e-07, 3.57224508e-06, 2.14334705e-05, 1.28600823e-04,\n",
       "       7.71604938e-04, 4.62962963e-03, 2.77777778e-02, 1.66666667e-01,\n",
       "       1.00000000e+00, 6.00000000e+00, 3.60000000e+01, 2.16000000e+02,\n",
       "       1.29600000e+03, 7.77600000e+03, 4.66560000e+04, 2.79936000e+05,\n",
       "       1.67961600e+06])"
      ]
     },
     "execution_count": 8,
     "metadata": {},
     "output_type": "execute_result"
    }
   ],
   "source": [
    "np.logspace(-8, 8, 17, base=6)"
   ]
  },
  {
   "cell_type": "code",
   "execution_count": 6,
   "metadata": {},
   "outputs": [
    {
     "name": "stdout",
     "output_type": "stream",
     "text": [
      "Returned hyperparameter: {'C': 0.00390625}\n",
      "Best classification accuracy in train is: 0.8095074084579332\n",
      "Classification accuracy on test is: 0.795\n"
     ]
    }
   ],
   "source": [
    "# SVM Classifier\n",
    "svc = LinearSVC(max_iter=20000)\n",
    "parameters2 = {'C': np.logspace(-8, 8, 17, base=2)} # definir l'espace des paramètres\n",
    "clf2 = GridSearchCV(svc, parameters2, cv=3)\n",
    "clf2.fit(X_train, y_train)\n",
    "\n",
    "\n",
    "print('Returned hyperparameter: {}'.format(clf2.best_params_))\n",
    "print('Best classification accuracy in train is: {}'.format(clf2.best_score_))\n",
    "print('Classification accuracy on test is: {}'.format(clf2.score(X_test, y_test)))"
   ]
  },
  {
   "cell_type": "markdown",
   "metadata": {},
   "source": [
    "**Question** Quelle est la signification des warnings? Quel est la paramètre responsable de cet affichage?"
   ]
  },
  {
   "cell_type": "markdown",
   "metadata": {},
   "source": [
    "**Reponse :** Les warnings signifient que l'algorithme a rencontré des problèmes lors de l'execution. De ce qui precede c'est le parametre max_iter (Nombre d'iteration) qui est à l'origine des warnings. Ici, le nombre d'iteration est est de 5000. En choisissant max_iter=30 000 cela fonctionne parfaitement."
   ]
  },
  {
   "cell_type": "code",
   "execution_count": 10,
   "metadata": {},
   "outputs": [
    {
     "name": "stdout",
     "output_type": "stream",
     "text": [
      "Returned hyperparameter: {'svc__C': 0.015625}\n",
      "Best classification accuracy in train is: 0.863002432717575\n",
      "Classification accuracy on test is: 0.84\n"
     ]
    }
   ],
   "source": [
    "# SVM Classifier + Pipeline\n",
    "pipe = Pipeline([('scaler', MaxAbsScaler()), ('svc', svc)])\n",
    "parameters3 = {'svc__C': np.logspace(-8, 8, 17, base=2)} # définir l'espace des paramètres\n",
    "clf3 = GridSearchCV(pipe, parameters3, cv=3)\n",
    "clf3.fit(X_train, y_train)\n",
    "\n",
    "print('Returned hyperparameter: {}'.format(clf3.best_params_))\n",
    "print('Best classification accuracy in train is: {}'.format(clf3.best_score_))\n",
    "print('Classification accuracy on test is: {}'.format(clf3.score(X_test, y_test)))"
   ]
  },
  {
   "cell_type": "markdown",
   "metadata": {},
   "source": [
    "**Question:** Qu'avons-nous changé par rapport à la précédente exécution de ```LinearSVC()```?\n",
    "\n",
    "**Question:** Expliquez ce qui se passe si on exécute\n",
    "```python\n",
    "    pipe.fit(X_train, y_train)\n",
    "    pipe.predict(X_test, y_test)\n",
    "```"
   ]
  },
  {
   "cell_type": "markdown",
   "metadata": {},
   "source": [
    "**Reponse :** on a normalisé les variables dans le second cas avant d'appliquer l'algorithme. on a aussi changé le linearSVC() en SVC\n",
    "\n",
    "pipe.fit(X_train, y_train) normalise les données de X_train et y_train  et applique l'algorithme svc \n",
    "pipe.predict permet de prédire les données de  y_test par X_test en tennat compte de l'apprentissage réalisé précedemment avec la base X_train"
   ]
  },
  {
   "cell_type": "code",
   "execution_count": 11,
   "metadata": {},
   "outputs": [
    {
     "name": "stdout",
     "output_type": "stream",
     "text": [
      "Returned hyperparameter: {'logreg__C': 0.0078125}\n",
      "Best classification accuracy in train is: 0.8705039372205788\n",
      "Classification accuracy on test is: 0.84\n"
     ]
    }
   ],
   "source": [
    "# Régression logistique\n",
    "pipe = Pipeline([('scaler', StandardScaler()), ('logreg', LogisticRegression(max_iter=5000))])\n",
    "parameters4 = {'logreg__C': np.logspace(-8, 8, 17, base=2)} # définir l'espace des paramètres\n",
    "clf4 = GridSearchCV(pipe, parameters4, cv=3)\n",
    "clf4.fit(X_train, y_train)\n",
    "\n",
    "print('Returned hyperparameter: {}'.format(clf4.best_params_))\n",
    "print('Best classification accuracy in train is: {}'.format(clf4.best_score_))\n",
    "print('Classification accuracy on test is: {}'.format(clf4.score(X_test, y_test)))"
   ]
  },
  {
   "cell_type": "markdown",
   "metadata": {},
   "source": [
    "**Question:** Quelle est la différence entre ```StandardScaler()``` et ```MaxAbsScaler()``` ? Quelles sont les autres options de normalisation disponibles dans ```sklearn```?"
   ]
  },
  {
   "cell_type": "markdown",
   "metadata": {},
   "source": [
    "**Reponse :** MaxAbsScaler() est utile dès lors que la distribution est eparse (répandu çà et là) \n",
    "et que vous avez pas mal d'outliers. il s'utilise pour les données qui n'ont pas une distribution gaussienne\n",
    "alors que standardScaler est utilisé pour des données gaussiennes. Dans ce dernier cas, on soustrait de chaque valeur\n",
    "la moyenne et on la divise par l'écart-type."
   ]
  },
  {
   "cell_type": "markdown",
   "metadata": {},
   "source": [
    "**Question:** en utilisant le code précédent comme exemple, obtenez une précision de test $ \\geq 0.9 $. Vous pouvez utiliser n'importe quelle méthode du package sklearn. Donnez une description mathématique de la méthode choisie. Précisez et expliquez la grille des hyperparamères considérés. "
   ]
  },
  {
   "cell_type": "markdown",
   "metadata": {},
   "source": [
    "**Reponse :** Nous avons utilisé la methode random forest pour augmenter la precision sur l'echantillon test. Dans la classification logistique, la precision sur l'echantillon test est de 0.84 alors que la methode random forest offre une meilleur precision soit 0,92."
   ]
  },
  {
   "cell_type": "code",
   "execution_count": 4,
   "metadata": {},
   "outputs": [
    {
     "name": "stdout",
     "output_type": "stream",
     "text": [
      "Returned hyperparameter: {'max_depth': 9, 'n_estimators': 300}\n",
      "Best classification accuracy in train is: 0.9055044549797172\n",
      "Classification accuracy on test is: 0.92\n"
     ]
    }
   ],
   "source": [
    "# Random Forest\n",
    "from sklearn.pipeline import Pipeline\n",
    "from sklearn.ensemble import RandomForestClassifier\n",
    "\n",
    "random= RandomForestClassifier(random_state=0)\n",
    "\n",
    "param = { 'n_estimators' : [100, 300],\n",
    "         'max_depth' : [identify,logistic,5,6,7,9,9] } # définir l'espace des paramètres\n",
    "clf4 = GridSearchCV(random, param, cv=3)\n",
    "clf4.fit(X_train, y_train)\n",
    "\n",
    "print('Returned hyperparameter: {}'.format(clf4.best_params_))\n",
    "print('Best classification accuracy in train is: {}'.format(clf4.best_score_))\n",
    "print('Classification accuracy on test is: {}'.format(clf4.score(X_test, y_test)))\n"
   ]
  },
  {
   "cell_type": "markdown",
   "metadata": {},
   "source": [
    "# Visualiser les erreurs "
   ]
  },
  {
   "cell_type": "markdown",
   "metadata": {},
   "source": [
    "Quelques méthodes de ```sklearn``` sont en mesure de fournir des probabilités pour chaque label ```predict_proba(X_test)```."
   ]
  },
  {
   "cell_type": "markdown",
   "metadata": {},
   "source": [
    "**Question** Il y a une erreur dans la partie de code suivante. Corrigez-la. "
   ]
  },
  {
   "cell_type": "markdown",
   "metadata": {},
   "source": [
    "**Reponse :**   L'erreur se trouve sur la ligne ``` axes[1, j].bar(np.arange(10), clf4.predict_proba(image.reshape(1, -1)))```. Il fallait juste appeler le premier element chose qu'on fait en ajoutant [0] à la ligne et cela devient \n",
    "``` axes[1, j].bar(np.arange(10), clf4.predict_proba(image.reshape(1, -1))[0])```"
   ]
  },
  {
   "cell_type": "code",
   "execution_count": 5,
   "metadata": {
    "scrolled": true
   },
   "outputs": [
    {
     "data": {
      "application/javascript": [
       "/* Put everything inside the global mpl namespace */\n",
       "window.mpl = {};\n",
       "\n",
       "\n",
       "mpl.get_websocket_type = function() {\n",
       "    if (typeof(WebSocket) !== 'undefined') {\n",
       "        return WebSocket;\n",
       "    } else if (typeof(MozWebSocket) !== 'undefined') {\n",
       "        return MozWebSocket;\n",
       "    } else {\n",
       "        alert('Your browser does not have WebSocket support. ' +\n",
       "              'Please try Chrome, Safari or Firefox ≥ 6. ' +\n",
       "              'Firefox 4 and 5 are also supported but you ' +\n",
       "              'have to enable WebSockets in about:config.');\n",
       "    };\n",
       "}\n",
       "\n",
       "mpl.figure = function(figure_id, websocket, ondownload, parent_element) {\n",
       "    this.id = figure_id;\n",
       "\n",
       "    this.ws = websocket;\n",
       "\n",
       "    this.supports_binary = (this.ws.binaryType != undefined);\n",
       "\n",
       "    if (!this.supports_binary) {\n",
       "        var warnings = document.getElementById(\"mpl-warnings\");\n",
       "        if (warnings) {\n",
       "            warnings.style.display = 'block';\n",
       "            warnings.textContent = (\n",
       "                \"This browser does not support binary websocket messages. \" +\n",
       "                    \"Performance may be slow.\");\n",
       "        }\n",
       "    }\n",
       "\n",
       "    this.imageObj = new Image();\n",
       "\n",
       "    this.context = undefined;\n",
       "    this.message = undefined;\n",
       "    this.canvas = undefined;\n",
       "    this.rubberband_canvas = undefined;\n",
       "    this.rubberband_context = undefined;\n",
       "    this.format_dropdown = undefined;\n",
       "\n",
       "    this.image_mode = 'full';\n",
       "\n",
       "    this.root = $('<div/>');\n",
       "    this._root_extra_style(this.root)\n",
       "    this.root.attr('style', 'display: inline-block');\n",
       "\n",
       "    $(parent_element).append(this.root);\n",
       "\n",
       "    this._init_header(this);\n",
       "    this._init_canvas(this);\n",
       "    this._init_toolbar(this);\n",
       "\n",
       "    var fig = this;\n",
       "\n",
       "    this.waiting = false;\n",
       "\n",
       "    this.ws.onopen =  function () {\n",
       "            fig.send_message(\"supports_binary\", {value: fig.supports_binary});\n",
       "            fig.send_message(\"send_image_mode\", {});\n",
       "            if (mpl.ratio != 1) {\n",
       "                fig.send_message(\"set_dpi_ratio\", {'dpi_ratio': mpl.ratio});\n",
       "            }\n",
       "            fig.send_message(\"refresh\", {});\n",
       "        }\n",
       "\n",
       "    this.imageObj.onload = function() {\n",
       "            if (fig.image_mode == 'full') {\n",
       "                // Full images could contain transparency (where diff images\n",
       "                // almost always do), so we need to clear the canvas so that\n",
       "                // there is no ghosting.\n",
       "                fig.context.clearRect(0, 0, fig.canvas.width, fig.canvas.height);\n",
       "            }\n",
       "            fig.context.drawImage(fig.imageObj, 0, 0);\n",
       "        };\n",
       "\n",
       "    this.imageObj.onunload = function() {\n",
       "        fig.ws.close();\n",
       "    }\n",
       "\n",
       "    this.ws.onmessage = this._make_on_message_function(this);\n",
       "\n",
       "    this.ondownload = ondownload;\n",
       "}\n",
       "\n",
       "mpl.figure.prototype._init_header = function() {\n",
       "    var titlebar = $(\n",
       "        '<div class=\"ui-dialog-titlebar ui-widget-header ui-corner-all ' +\n",
       "        'ui-helper-clearfix\"/>');\n",
       "    var titletext = $(\n",
       "        '<div class=\"ui-dialog-title\" style=\"width: 100%; ' +\n",
       "        'text-align: center; padding: 3px;\"/>');\n",
       "    titlebar.append(titletext)\n",
       "    this.root.append(titlebar);\n",
       "    this.header = titletext[0];\n",
       "}\n",
       "\n",
       "\n",
       "\n",
       "mpl.figure.prototype._canvas_extra_style = function(canvas_div) {\n",
       "\n",
       "}\n",
       "\n",
       "\n",
       "mpl.figure.prototype._root_extra_style = function(canvas_div) {\n",
       "\n",
       "}\n",
       "\n",
       "mpl.figure.prototype._init_canvas = function() {\n",
       "    var fig = this;\n",
       "\n",
       "    var canvas_div = $('<div/>');\n",
       "\n",
       "    canvas_div.attr('style', 'position: relative; clear: both; outline: 0');\n",
       "\n",
       "    function canvas_keyboard_event(event) {\n",
       "        return fig.key_event(event, event['data']);\n",
       "    }\n",
       "\n",
       "    canvas_div.keydown('key_press', canvas_keyboard_event);\n",
       "    canvas_div.keyup('key_release', canvas_keyboard_event);\n",
       "    this.canvas_div = canvas_div\n",
       "    this._canvas_extra_style(canvas_div)\n",
       "    this.root.append(canvas_div);\n",
       "\n",
       "    var canvas = $('<canvas/>');\n",
       "    canvas.addClass('mpl-canvas');\n",
       "    canvas.attr('style', \"left: 0; top: 0; z-index: 0; outline: 0\")\n",
       "\n",
       "    this.canvas = canvas[0];\n",
       "    this.context = canvas[0].getContext(\"2d\");\n",
       "\n",
       "    var backingStore = this.context.backingStorePixelRatio ||\n",
       "\tthis.context.webkitBackingStorePixelRatio ||\n",
       "\tthis.context.mozBackingStorePixelRatio ||\n",
       "\tthis.context.msBackingStorePixelRatio ||\n",
       "\tthis.context.oBackingStorePixelRatio ||\n",
       "\tthis.context.backingStorePixelRatio || 1;\n",
       "\n",
       "    mpl.ratio = (window.devicePixelRatio || 1) / backingStore;\n",
       "\n",
       "    var rubberband = $('<canvas/>');\n",
       "    rubberband.attr('style', \"position: absolute; left: 0; top: 0; z-index: 1;\")\n",
       "\n",
       "    var pass_mouse_events = true;\n",
       "\n",
       "    canvas_div.resizable({\n",
       "        start: function(event, ui) {\n",
       "            pass_mouse_events = false;\n",
       "        },\n",
       "        resize: function(event, ui) {\n",
       "            fig.request_resize(ui.size.width, ui.size.height);\n",
       "        },\n",
       "        stop: function(event, ui) {\n",
       "            pass_mouse_events = true;\n",
       "            fig.request_resize(ui.size.width, ui.size.height);\n",
       "        },\n",
       "    });\n",
       "\n",
       "    function mouse_event_fn(event) {\n",
       "        if (pass_mouse_events)\n",
       "            return fig.mouse_event(event, event['data']);\n",
       "    }\n",
       "\n",
       "    rubberband.mousedown('button_press', mouse_event_fn);\n",
       "    rubberband.mouseup('button_release', mouse_event_fn);\n",
       "    // Throttle sequential mouse events to 1 every 20ms.\n",
       "    rubberband.mousemove('motion_notify', mouse_event_fn);\n",
       "\n",
       "    rubberband.mouseenter('figure_enter', mouse_event_fn);\n",
       "    rubberband.mouseleave('figure_leave', mouse_event_fn);\n",
       "\n",
       "    canvas_div.on(\"wheel\", function (event) {\n",
       "        event = event.originalEvent;\n",
       "        event['data'] = 'scroll'\n",
       "        if (event.deltaY < 0) {\n",
       "            event.step = 1;\n",
       "        } else {\n",
       "            event.step = -1;\n",
       "        }\n",
       "        mouse_event_fn(event);\n",
       "    });\n",
       "\n",
       "    canvas_div.append(canvas);\n",
       "    canvas_div.append(rubberband);\n",
       "\n",
       "    this.rubberband = rubberband;\n",
       "    this.rubberband_canvas = rubberband[0];\n",
       "    this.rubberband_context = rubberband[0].getContext(\"2d\");\n",
       "    this.rubberband_context.strokeStyle = \"#000000\";\n",
       "\n",
       "    this._resize_canvas = function(width, height) {\n",
       "        // Keep the size of the canvas, canvas container, and rubber band\n",
       "        // canvas in synch.\n",
       "        canvas_div.css('width', width)\n",
       "        canvas_div.css('height', height)\n",
       "\n",
       "        canvas.attr('width', width * mpl.ratio);\n",
       "        canvas.attr('height', height * mpl.ratio);\n",
       "        canvas.attr('style', 'width: ' + width + 'px; height: ' + height + 'px;');\n",
       "\n",
       "        rubberband.attr('width', width);\n",
       "        rubberband.attr('height', height);\n",
       "    }\n",
       "\n",
       "    // Set the figure to an initial 600x600px, this will subsequently be updated\n",
       "    // upon first draw.\n",
       "    this._resize_canvas(600, 600);\n",
       "\n",
       "    // Disable right mouse context menu.\n",
       "    $(this.rubberband_canvas).bind(\"contextmenu\",function(e){\n",
       "        return false;\n",
       "    });\n",
       "\n",
       "    function set_focus () {\n",
       "        canvas.focus();\n",
       "        canvas_div.focus();\n",
       "    }\n",
       "\n",
       "    window.setTimeout(set_focus, 100);\n",
       "}\n",
       "\n",
       "mpl.figure.prototype._init_toolbar = function() {\n",
       "    var fig = this;\n",
       "\n",
       "    var nav_element = $('<div/>');\n",
       "    nav_element.attr('style', 'width: 100%');\n",
       "    this.root.append(nav_element);\n",
       "\n",
       "    // Define a callback function for later on.\n",
       "    function toolbar_event(event) {\n",
       "        return fig.toolbar_button_onclick(event['data']);\n",
       "    }\n",
       "    function toolbar_mouse_event(event) {\n",
       "        return fig.toolbar_button_onmouseover(event['data']);\n",
       "    }\n",
       "\n",
       "    for(var toolbar_ind in mpl.toolbar_items) {\n",
       "        var name = mpl.toolbar_items[toolbar_ind][0];\n",
       "        var tooltip = mpl.toolbar_items[toolbar_ind][1];\n",
       "        var image = mpl.toolbar_items[toolbar_ind][2];\n",
       "        var method_name = mpl.toolbar_items[toolbar_ind][3];\n",
       "\n",
       "        if (!name) {\n",
       "            // put a spacer in here.\n",
       "            continue;\n",
       "        }\n",
       "        var button = $('<button/>');\n",
       "        button.addClass('ui-button ui-widget ui-state-default ui-corner-all ' +\n",
       "                        'ui-button-icon-only');\n",
       "        button.attr('role', 'button');\n",
       "        button.attr('aria-disabled', 'false');\n",
       "        button.click(method_name, toolbar_event);\n",
       "        button.mouseover(tooltip, toolbar_mouse_event);\n",
       "\n",
       "        var icon_img = $('<span/>');\n",
       "        icon_img.addClass('ui-button-icon-primary ui-icon');\n",
       "        icon_img.addClass(image);\n",
       "        icon_img.addClass('ui-corner-all');\n",
       "\n",
       "        var tooltip_span = $('<span/>');\n",
       "        tooltip_span.addClass('ui-button-text');\n",
       "        tooltip_span.html(tooltip);\n",
       "\n",
       "        button.append(icon_img);\n",
       "        button.append(tooltip_span);\n",
       "\n",
       "        nav_element.append(button);\n",
       "    }\n",
       "\n",
       "    var fmt_picker_span = $('<span/>');\n",
       "\n",
       "    var fmt_picker = $('<select/>');\n",
       "    fmt_picker.addClass('mpl-toolbar-option ui-widget ui-widget-content');\n",
       "    fmt_picker_span.append(fmt_picker);\n",
       "    nav_element.append(fmt_picker_span);\n",
       "    this.format_dropdown = fmt_picker[0];\n",
       "\n",
       "    for (var ind in mpl.extensions) {\n",
       "        var fmt = mpl.extensions[ind];\n",
       "        var option = $(\n",
       "            '<option/>', {selected: fmt === mpl.default_extension}).html(fmt);\n",
       "        fmt_picker.append(option);\n",
       "    }\n",
       "\n",
       "    // Add hover states to the ui-buttons\n",
       "    $( \".ui-button\" ).hover(\n",
       "        function() { $(this).addClass(\"ui-state-hover\");},\n",
       "        function() { $(this).removeClass(\"ui-state-hover\");}\n",
       "    );\n",
       "\n",
       "    var status_bar = $('<span class=\"mpl-message\"/>');\n",
       "    nav_element.append(status_bar);\n",
       "    this.message = status_bar[0];\n",
       "}\n",
       "\n",
       "mpl.figure.prototype.request_resize = function(x_pixels, y_pixels) {\n",
       "    // Request matplotlib to resize the figure. Matplotlib will then trigger a resize in the client,\n",
       "    // which will in turn request a refresh of the image.\n",
       "    this.send_message('resize', {'width': x_pixels, 'height': y_pixels});\n",
       "}\n",
       "\n",
       "mpl.figure.prototype.send_message = function(type, properties) {\n",
       "    properties['type'] = type;\n",
       "    properties['figure_id'] = this.id;\n",
       "    this.ws.send(JSON.stringify(properties));\n",
       "}\n",
       "\n",
       "mpl.figure.prototype.send_draw_message = function() {\n",
       "    if (!this.waiting) {\n",
       "        this.waiting = true;\n",
       "        this.ws.send(JSON.stringify({type: \"draw\", figure_id: this.id}));\n",
       "    }\n",
       "}\n",
       "\n",
       "\n",
       "mpl.figure.prototype.handle_save = function(fig, msg) {\n",
       "    var format_dropdown = fig.format_dropdown;\n",
       "    var format = format_dropdown.options[format_dropdown.selectedIndex].value;\n",
       "    fig.ondownload(fig, format);\n",
       "}\n",
       "\n",
       "\n",
       "mpl.figure.prototype.handle_resize = function(fig, msg) {\n",
       "    var size = msg['size'];\n",
       "    if (size[0] != fig.canvas.width || size[1] != fig.canvas.height) {\n",
       "        fig._resize_canvas(size[0], size[1]);\n",
       "        fig.send_message(\"refresh\", {});\n",
       "    };\n",
       "}\n",
       "\n",
       "mpl.figure.prototype.handle_rubberband = function(fig, msg) {\n",
       "    var x0 = msg['x0'] / mpl.ratio;\n",
       "    var y0 = (fig.canvas.height - msg['y0']) / mpl.ratio;\n",
       "    var x1 = msg['x1'] / mpl.ratio;\n",
       "    var y1 = (fig.canvas.height - msg['y1']) / mpl.ratio;\n",
       "    x0 = Math.floor(x0) + 0.5;\n",
       "    y0 = Math.floor(y0) + 0.5;\n",
       "    x1 = Math.floor(x1) + 0.5;\n",
       "    y1 = Math.floor(y1) + 0.5;\n",
       "    var min_x = Math.min(x0, x1);\n",
       "    var min_y = Math.min(y0, y1);\n",
       "    var width = Math.abs(x1 - x0);\n",
       "    var height = Math.abs(y1 - y0);\n",
       "\n",
       "    fig.rubberband_context.clearRect(\n",
       "        0, 0, fig.canvas.width / mpl.ratio, fig.canvas.height / mpl.ratio);\n",
       "\n",
       "    fig.rubberband_context.strokeRect(min_x, min_y, width, height);\n",
       "}\n",
       "\n",
       "mpl.figure.prototype.handle_figure_label = function(fig, msg) {\n",
       "    // Updates the figure title.\n",
       "    fig.header.textContent = msg['label'];\n",
       "}\n",
       "\n",
       "mpl.figure.prototype.handle_cursor = function(fig, msg) {\n",
       "    var cursor = msg['cursor'];\n",
       "    switch(cursor)\n",
       "    {\n",
       "    case 0:\n",
       "        cursor = 'pointer';\n",
       "        break;\n",
       "    case 1:\n",
       "        cursor = 'default';\n",
       "        break;\n",
       "    case 2:\n",
       "        cursor = 'crosshair';\n",
       "        break;\n",
       "    case 3:\n",
       "        cursor = 'move';\n",
       "        break;\n",
       "    }\n",
       "    fig.rubberband_canvas.style.cursor = cursor;\n",
       "}\n",
       "\n",
       "mpl.figure.prototype.handle_message = function(fig, msg) {\n",
       "    fig.message.textContent = msg['message'];\n",
       "}\n",
       "\n",
       "mpl.figure.prototype.handle_draw = function(fig, msg) {\n",
       "    // Request the server to send over a new figure.\n",
       "    fig.send_draw_message();\n",
       "}\n",
       "\n",
       "mpl.figure.prototype.handle_image_mode = function(fig, msg) {\n",
       "    fig.image_mode = msg['mode'];\n",
       "}\n",
       "\n",
       "mpl.figure.prototype.updated_canvas_event = function() {\n",
       "    // Called whenever the canvas gets updated.\n",
       "    this.send_message(\"ack\", {});\n",
       "}\n",
       "\n",
       "// A function to construct a web socket function for onmessage handling.\n",
       "// Called in the figure constructor.\n",
       "mpl.figure.prototype._make_on_message_function = function(fig) {\n",
       "    return function socket_on_message(evt) {\n",
       "        if (evt.data instanceof Blob) {\n",
       "            /* FIXME: We get \"Resource interpreted as Image but\n",
       "             * transferred with MIME type text/plain:\" errors on\n",
       "             * Chrome.  But how to set the MIME type?  It doesn't seem\n",
       "             * to be part of the websocket stream */\n",
       "            evt.data.type = \"image/png\";\n",
       "\n",
       "            /* Free the memory for the previous frames */\n",
       "            if (fig.imageObj.src) {\n",
       "                (window.URL || window.webkitURL).revokeObjectURL(\n",
       "                    fig.imageObj.src);\n",
       "            }\n",
       "\n",
       "            fig.imageObj.src = (window.URL || window.webkitURL).createObjectURL(\n",
       "                evt.data);\n",
       "            fig.updated_canvas_event();\n",
       "            fig.waiting = false;\n",
       "            return;\n",
       "        }\n",
       "        else if (typeof evt.data === 'string' && evt.data.slice(0, 21) == \"data:image/png;base64\") {\n",
       "            fig.imageObj.src = evt.data;\n",
       "            fig.updated_canvas_event();\n",
       "            fig.waiting = false;\n",
       "            return;\n",
       "        }\n",
       "\n",
       "        var msg = JSON.parse(evt.data);\n",
       "        var msg_type = msg['type'];\n",
       "\n",
       "        // Call the  \"handle_{type}\" callback, which takes\n",
       "        // the figure and JSON message as its only arguments.\n",
       "        try {\n",
       "            var callback = fig[\"handle_\" + msg_type];\n",
       "        } catch (e) {\n",
       "            console.log(\"No handler for the '\" + msg_type + \"' message type: \", msg);\n",
       "            return;\n",
       "        }\n",
       "\n",
       "        if (callback) {\n",
       "            try {\n",
       "                // console.log(\"Handling '\" + msg_type + \"' message: \", msg);\n",
       "                callback(fig, msg);\n",
       "            } catch (e) {\n",
       "                console.log(\"Exception inside the 'handler_\" + msg_type + \"' callback:\", e, e.stack, msg);\n",
       "            }\n",
       "        }\n",
       "    };\n",
       "}\n",
       "\n",
       "// from http://stackoverflow.com/questions/1114465/getting-mouse-location-in-canvas\n",
       "mpl.findpos = function(e) {\n",
       "    //this section is from http://www.quirksmode.org/js/events_properties.html\n",
       "    var targ;\n",
       "    if (!e)\n",
       "        e = window.event;\n",
       "    if (e.target)\n",
       "        targ = e.target;\n",
       "    else if (e.srcElement)\n",
       "        targ = e.srcElement;\n",
       "    if (targ.nodeType == 3) // defeat Safari bug\n",
       "        targ = targ.parentNode;\n",
       "\n",
       "    // jQuery normalizes the pageX and pageY\n",
       "    // pageX,Y are the mouse positions relative to the document\n",
       "    // offset() returns the position of the element relative to the document\n",
       "    var x = e.pageX - $(targ).offset().left;\n",
       "    var y = e.pageY - $(targ).offset().top;\n",
       "\n",
       "    return {\"x\": x, \"y\": y};\n",
       "};\n",
       "\n",
       "/*\n",
       " * return a copy of an object with only non-object keys\n",
       " * we need this to avoid circular references\n",
       " * http://stackoverflow.com/a/24161582/3208463\n",
       " */\n",
       "function simpleKeys (original) {\n",
       "  return Object.keys(original).reduce(function (obj, key) {\n",
       "    if (typeof original[key] !== 'object')\n",
       "        obj[key] = original[key]\n",
       "    return obj;\n",
       "  }, {});\n",
       "}\n",
       "\n",
       "mpl.figure.prototype.mouse_event = function(event, name) {\n",
       "    var canvas_pos = mpl.findpos(event)\n",
       "\n",
       "    if (name === 'button_press')\n",
       "    {\n",
       "        this.canvas.focus();\n",
       "        this.canvas_div.focus();\n",
       "    }\n",
       "\n",
       "    var x = canvas_pos.x * mpl.ratio;\n",
       "    var y = canvas_pos.y * mpl.ratio;\n",
       "\n",
       "    this.send_message(name, {x: x, y: y, button: event.button,\n",
       "                             step: event.step,\n",
       "                             guiEvent: simpleKeys(event)});\n",
       "\n",
       "    /* This prevents the web browser from automatically changing to\n",
       "     * the text insertion cursor when the button is pressed.  We want\n",
       "     * to control all of the cursor setting manually through the\n",
       "     * 'cursor' event from matplotlib */\n",
       "    event.preventDefault();\n",
       "    return false;\n",
       "}\n",
       "\n",
       "mpl.figure.prototype._key_event_extra = function(event, name) {\n",
       "    // Handle any extra behaviour associated with a key event\n",
       "}\n",
       "\n",
       "mpl.figure.prototype.key_event = function(event, name) {\n",
       "\n",
       "    // Prevent repeat events\n",
       "    if (name == 'key_press')\n",
       "    {\n",
       "        if (event.which === this._key)\n",
       "            return;\n",
       "        else\n",
       "            this._key = event.which;\n",
       "    }\n",
       "    if (name == 'key_release')\n",
       "        this._key = null;\n",
       "\n",
       "    var value = '';\n",
       "    if (event.ctrlKey && event.which != 17)\n",
       "        value += \"ctrl+\";\n",
       "    if (event.altKey && event.which != 18)\n",
       "        value += \"alt+\";\n",
       "    if (event.shiftKey && event.which != 16)\n",
       "        value += \"shift+\";\n",
       "\n",
       "    value += 'k';\n",
       "    value += event.which.toString();\n",
       "\n",
       "    this._key_event_extra(event, name);\n",
       "\n",
       "    this.send_message(name, {key: value,\n",
       "                             guiEvent: simpleKeys(event)});\n",
       "    return false;\n",
       "}\n",
       "\n",
       "mpl.figure.prototype.toolbar_button_onclick = function(name) {\n",
       "    if (name == 'download') {\n",
       "        this.handle_save(this, null);\n",
       "    } else {\n",
       "        this.send_message(\"toolbar_button\", {name: name});\n",
       "    }\n",
       "};\n",
       "\n",
       "mpl.figure.prototype.toolbar_button_onmouseover = function(tooltip) {\n",
       "    this.message.textContent = tooltip;\n",
       "};\n",
       "mpl.toolbar_items = [[\"Home\", \"Reset original view\", \"fa fa-home icon-home\", \"home\"], [\"Back\", \"Back to previous view\", \"fa fa-arrow-left icon-arrow-left\", \"back\"], [\"Forward\", \"Forward to next view\", \"fa fa-arrow-right icon-arrow-right\", \"forward\"], [\"\", \"\", \"\", \"\"], [\"Pan\", \"Pan axes with left mouse, zoom with right\", \"fa fa-arrows icon-move\", \"pan\"], [\"Zoom\", \"Zoom to rectangle\", \"fa fa-square-o icon-check-empty\", \"zoom\"], [\"\", \"\", \"\", \"\"], [\"Download\", \"Download plot\", \"fa fa-floppy-o icon-save\", \"download\"]];\n",
       "\n",
       "mpl.extensions = [\"eps\", \"jpeg\", \"pdf\", \"png\", \"ps\", \"raw\", \"svg\", \"tif\"];\n",
       "\n",
       "mpl.default_extension = \"png\";var comm_websocket_adapter = function(comm) {\n",
       "    // Create a \"websocket\"-like object which calls the given IPython comm\n",
       "    // object with the appropriate methods. Currently this is a non binary\n",
       "    // socket, so there is still some room for performance tuning.\n",
       "    var ws = {};\n",
       "\n",
       "    ws.close = function() {\n",
       "        comm.close()\n",
       "    };\n",
       "    ws.send = function(m) {\n",
       "        //console.log('sending', m);\n",
       "        comm.send(m);\n",
       "    };\n",
       "    // Register the callback with on_msg.\n",
       "    comm.on_msg(function(msg) {\n",
       "        //console.log('receiving', msg['content']['data'], msg);\n",
       "        // Pass the mpl event to the overridden (by mpl) onmessage function.\n",
       "        ws.onmessage(msg['content']['data'])\n",
       "    });\n",
       "    return ws;\n",
       "}\n",
       "\n",
       "mpl.mpl_figure_comm = function(comm, msg) {\n",
       "    // This is the function which gets called when the mpl process\n",
       "    // starts-up an IPython Comm through the \"matplotlib\" channel.\n",
       "\n",
       "    var id = msg.content.data.id;\n",
       "    // Get hold of the div created by the display call when the Comm\n",
       "    // socket was opened in Python.\n",
       "    var element = $(\"#\" + id);\n",
       "    var ws_proxy = comm_websocket_adapter(comm)\n",
       "\n",
       "    function ondownload(figure, format) {\n",
       "        window.open(figure.imageObj.src);\n",
       "    }\n",
       "\n",
       "    var fig = new mpl.figure(id, ws_proxy,\n",
       "                           ondownload,\n",
       "                           element.get(0));\n",
       "\n",
       "    // Call onopen now - mpl needs it, as it is assuming we've passed it a real\n",
       "    // web socket which is closed, not our websocket->open comm proxy.\n",
       "    ws_proxy.onopen();\n",
       "\n",
       "    fig.parent_element = element.get(0);\n",
       "    fig.cell_info = mpl.find_output_cell(\"<div id='\" + id + \"'></div>\");\n",
       "    if (!fig.cell_info) {\n",
       "        console.error(\"Failed to find cell for figure\", id, fig);\n",
       "        return;\n",
       "    }\n",
       "\n",
       "    var output_index = fig.cell_info[2]\n",
       "    var cell = fig.cell_info[0];\n",
       "\n",
       "};\n",
       "\n",
       "mpl.figure.prototype.handle_close = function(fig, msg) {\n",
       "    var width = fig.canvas.width/mpl.ratio\n",
       "    fig.root.unbind('remove')\n",
       "\n",
       "    // Update the output cell to use the data from the current canvas.\n",
       "    fig.push_to_output();\n",
       "    var dataURL = fig.canvas.toDataURL();\n",
       "    // Re-enable the keyboard manager in IPython - without this line, in FF,\n",
       "    // the notebook keyboard shortcuts fail.\n",
       "    IPython.keyboard_manager.enable()\n",
       "    $(fig.parent_element).html('<img src=\"' + dataURL + '\" width=\"' + width + '\">');\n",
       "    fig.close_ws(fig, msg);\n",
       "}\n",
       "\n",
       "mpl.figure.prototype.close_ws = function(fig, msg){\n",
       "    fig.send_message('closing', msg);\n",
       "    // fig.ws.close()\n",
       "}\n",
       "\n",
       "mpl.figure.prototype.push_to_output = function(remove_interactive) {\n",
       "    // Turn the data on the canvas into data in the output cell.\n",
       "    var width = this.canvas.width/mpl.ratio\n",
       "    var dataURL = this.canvas.toDataURL();\n",
       "    this.cell_info[1]['text/html'] = '<img src=\"' + dataURL + '\" width=\"' + width + '\">';\n",
       "}\n",
       "\n",
       "mpl.figure.prototype.updated_canvas_event = function() {\n",
       "    // Tell IPython that the notebook contents must change.\n",
       "    IPython.notebook.set_dirty(true);\n",
       "    this.send_message(\"ack\", {});\n",
       "    var fig = this;\n",
       "    // Wait a second, then push the new image to the DOM so\n",
       "    // that it is saved nicely (might be nice to debounce this).\n",
       "    setTimeout(function () { fig.push_to_output() }, 1000);\n",
       "}\n",
       "\n",
       "mpl.figure.prototype._init_toolbar = function() {\n",
       "    var fig = this;\n",
       "\n",
       "    var nav_element = $('<div/>');\n",
       "    nav_element.attr('style', 'width: 100%');\n",
       "    this.root.append(nav_element);\n",
       "\n",
       "    // Define a callback function for later on.\n",
       "    function toolbar_event(event) {\n",
       "        return fig.toolbar_button_onclick(event['data']);\n",
       "    }\n",
       "    function toolbar_mouse_event(event) {\n",
       "        return fig.toolbar_button_onmouseover(event['data']);\n",
       "    }\n",
       "\n",
       "    for(var toolbar_ind in mpl.toolbar_items){\n",
       "        var name = mpl.toolbar_items[toolbar_ind][0];\n",
       "        var tooltip = mpl.toolbar_items[toolbar_ind][1];\n",
       "        var image = mpl.toolbar_items[toolbar_ind][2];\n",
       "        var method_name = mpl.toolbar_items[toolbar_ind][3];\n",
       "\n",
       "        if (!name) { continue; };\n",
       "\n",
       "        var button = $('<button class=\"btn btn-default\" href=\"#\" title=\"' + name + '\"><i class=\"fa ' + image + ' fa-lg\"></i></button>');\n",
       "        button.click(method_name, toolbar_event);\n",
       "        button.mouseover(tooltip, toolbar_mouse_event);\n",
       "        nav_element.append(button);\n",
       "    }\n",
       "\n",
       "    // Add the status bar.\n",
       "    var status_bar = $('<span class=\"mpl-message\" style=\"text-align:right; float: right;\"/>');\n",
       "    nav_element.append(status_bar);\n",
       "    this.message = status_bar[0];\n",
       "\n",
       "    // Add the close button to the window.\n",
       "    var buttongrp = $('<div class=\"btn-group inline pull-right\"></div>');\n",
       "    var button = $('<button class=\"btn btn-mini btn-primary\" href=\"#\" title=\"Stop Interaction\"><i class=\"fa fa-power-off icon-remove icon-large\"></i></button>');\n",
       "    button.click(function (evt) { fig.handle_close(fig, {}); } );\n",
       "    button.mouseover('Stop Interaction', toolbar_mouse_event);\n",
       "    buttongrp.append(button);\n",
       "    var titlebar = this.root.find($('.ui-dialog-titlebar'));\n",
       "    titlebar.prepend(buttongrp);\n",
       "}\n",
       "\n",
       "mpl.figure.prototype._root_extra_style = function(el){\n",
       "    var fig = this\n",
       "    el.on(\"remove\", function(){\n",
       "\tfig.close_ws(fig, {});\n",
       "    });\n",
       "}\n",
       "\n",
       "mpl.figure.prototype._canvas_extra_style = function(el){\n",
       "    // this is important to make the div 'focusable\n",
       "    el.attr('tabindex', 0)\n",
       "    // reach out to IPython and tell the keyboard manager to turn it's self\n",
       "    // off when our div gets focus\n",
       "\n",
       "    // location in version 3\n",
       "    if (IPython.notebook.keyboard_manager) {\n",
       "        IPython.notebook.keyboard_manager.register_events(el);\n",
       "    }\n",
       "    else {\n",
       "        // location in version 2\n",
       "        IPython.keyboard_manager.register_events(el);\n",
       "    }\n",
       "\n",
       "}\n",
       "\n",
       "mpl.figure.prototype._key_event_extra = function(event, name) {\n",
       "    var manager = IPython.notebook.keyboard_manager;\n",
       "    if (!manager)\n",
       "        manager = IPython.keyboard_manager;\n",
       "\n",
       "    // Check for shift+enter\n",
       "    if (event.shiftKey && event.which == 13) {\n",
       "        this.canvas_div.blur();\n",
       "        // select the cell after this one\n",
       "        var index = IPython.notebook.find_cell_index(this.cell_info[0]);\n",
       "        IPython.notebook.select(index + 1);\n",
       "    }\n",
       "}\n",
       "\n",
       "mpl.figure.prototype.handle_save = function(fig, msg) {\n",
       "    fig.ondownload(fig, null);\n",
       "}\n",
       "\n",
       "\n",
       "mpl.find_output_cell = function(html_output) {\n",
       "    // Return the cell and output element which can be found *uniquely* in the notebook.\n",
       "    // Note - this is a bit hacky, but it is done because the \"notebook_saving.Notebook\"\n",
       "    // IPython event is triggered only after the cells have been serialised, which for\n",
       "    // our purposes (turning an active figure into a static one), is too late.\n",
       "    var cells = IPython.notebook.get_cells();\n",
       "    var ncells = cells.length;\n",
       "    for (var i=0; i<ncells; i++) {\n",
       "        var cell = cells[i];\n",
       "        if (cell.cell_type === 'code'){\n",
       "            for (var j=0; j<cell.output_area.outputs.length; j++) {\n",
       "                var data = cell.output_area.outputs[j];\n",
       "                if (data.data) {\n",
       "                    // IPython >= 3 moved mimebundle to data attribute of output\n",
       "                    data = data.data;\n",
       "                }\n",
       "                if (data['text/html'] == html_output) {\n",
       "                    return [cell, data, j];\n",
       "                }\n",
       "            }\n",
       "        }\n",
       "    }\n",
       "}\n",
       "\n",
       "// Register the function which deals with the matplotlib target/channel.\n",
       "// The kernel may be null if the page has been refreshed.\n",
       "if (IPython.notebook.kernel != null) {\n",
       "    IPython.notebook.kernel.comm_manager.register_target('matplotlib', mpl.mpl_figure_comm);\n",
       "}\n"
      ],
      "text/plain": [
       "<IPython.core.display.Javascript object>"
      ]
     },
     "metadata": {},
     "output_type": "display_data"
    },
    {
     "data": {
      "text/html": [
       "<img src=\"data:image/png;base64,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\" width=\"639.5333333333333\">"
      ],
      "text/plain": [
       "<IPython.core.display.HTML object>"
      ]
     },
     "metadata": {},
     "output_type": "display_data"
    }
   ],
   "source": [
    "axes = plt.subplots(2, 4)[1]  # crée une grille de 10 plots\n",
    "\n",
    "# Plus de détails sur la fonction zip() sont disponibles sur https://docs.python.org/3.3/library/functions.html#zip\n",
    "y_pred = clf4.predict(X_test)\n",
    "j = 0 # Indice qui itère sur les plots\n",
    "for true_label, pred_label, image in list(zip(y_test, y_pred, X_test)):\n",
    "    if j == 4: #  Nous voulons seulement regarder les 4 premières erreurs \n",
    "        break\n",
    "    if true_label != pred_label:\n",
    "        # Tracer les probabilités prédites \n",
    "        axes[1, j].bar(np.arange(10), clf4.predict_proba(image.reshape(1, -1))[0]) \n",
    "        axes[1, j].set_xticks(np.arange(10))\n",
    "        axes[1, j].set_yticks([])\n",
    "        \n",
    "        # Tracer de l'image\n",
    "        axes[0, j].imshow(image.reshape((28, 28)), cmap=plt.cm.gray_r, interpolation='nearest')\n",
    "        axes[0, j].set_xticks([])\n",
    "        axes[0, j].set_yticks([])\n",
    "        axes[0, j].set_title('Predicted {}'.format(pred_label))\n",
    "        j += 1\n",
    "        \n",
    "#         plt.xticks(x, ('Bill', 'Fred', 'Mary', 'Sue'))\n",
    "#         axex[1, j].plot()"
   ]
  },
  {
   "cell_type": "markdown",
   "metadata": {},
   "source": [
    "# Changement de la fonction de perte"
   ]
  },
  {
   "cell_type": "markdown",
   "metadata": {},
   "source": [
    "Il arrive souvent que la précision ne soit pas la bonne façon d'évaluer la performance. ```sklearn``` a une grande variété d'autres métriques à la fois pour la classification et la régression. Voir https://scikit-learn.org/stable/modules/classes.html#module-sklearn.metrics\n",
    "\n",
    "Ici, nous voulons comprendre comment modifier la métrique de validation croisée avec un minimum d'effort. "
   ]
  },
  {
   "cell_type": "code",
   "execution_count": 18,
   "metadata": {},
   "outputs": [
    {
     "name": "stdout",
     "output_type": "stream",
     "text": [
      "Returned hyperparameter: {'svc__C': 0.015625}\n",
      "Best Balanced accuracy in train is: 0.8612334093654231\n",
      "Balanced accuracy on test is: 0.825627008328415\n"
     ]
    }
   ],
   "source": [
    "# SVM Classifier + Pipeline + New score function\n",
    "\n",
    "pipe = Pipeline([('scaler', MaxAbsScaler()), ('svc', svc)])\n",
    "parameters4 = {'svc__C': np.logspace(-8, 8, 17, base=2)} # définir l'espace des paramètres\n",
    "balanced_scorer = make_scorer(balanced_accuracy_score)\n",
    "\n",
    "clf4 = GridSearchCV(pipe, parameters3, cv=3, scoring=balanced_scorer)\n",
    "clf4.fit(X_train, y_train)\n",
    "\n",
    "print('Returned hyperparameter: {}'.format(clf4.best_params_))\n",
    "print('Best Balanced accuracy in train is: {}'.format(clf4.best_score_))\n",
    "print('Balanced accuracy on test is: {}'.format(clf4.score(X_test, y_test)))"
   ]
  },
  {
   "cell_type": "markdown",
   "metadata": {},
   "source": [
    "**Question:** Que fait ```balanced_accuracy_score```? Écrivez sa description mathématique. "
   ]
  },
  {
   "cell_type": "markdown",
   "metadata": {},
   "source": [
    "**Reponse :** ```balanced accuracy_score ``` est une métrique que l'on peut utiliser pour évaluer la qualité d'un classificateur binaire. Elle est particulièrement utile lorsque les classes sont déséquilibrées, c'est-à-dire lorsqu'une des deux classes apparaît beaucoup plus souvent que l'autre. Cela se produit souvent dans de nombreux contextes tels que la détection d'anomalies et la présence d'une maladie.\n",
    "\n",
    "```balanced accuracy_score ``` est basée sur deux mesures plus couramment utilisées : la sensibilité (également connue sous le nom de taux de vrais positifs ou de rappel) et la spécificité (également connue sous le nom de taux de vrais négatifs, ou 1 - taux de faux positifs). La sensibilité répond à la question suivante : \"Combien de cas positifs ai-je détectés ?\" Ou pour le dire dans un contexte de fabrication : \"Combien de produits (réellement) défectueux ai-je réussi à rappeler ?\" La spécificité répond à la même question, mais pour les cas négatifs. \n",
    "\n",
    "\n",
    "elle est la moyenne arithmétique de la sensibilité et la spécificité"
   ]
  },
  {
   "cell_type": "markdown",
   "metadata": {
    "collapsed": true
   },
   "source": [
    "Parfois, il est important d'examiner la matrice de confusion de la prédiction. \n",
    "\n",
    "**Question:** Qu'est-ce que la matrice de confusion ? Quelles sont les conclusions que nous pouvons tirer de la  ```confusion_matrix(y_test, clf4.predict(X_test))```"
   ]
  },
  {
   "cell_type": "code",
   "execution_count": 19,
   "metadata": {},
   "outputs": [
    {
     "name": "stdout",
     "output_type": "stream",
     "text": [
      "[[22  0  0  0  0  0  0  0  0  0]\n",
      " [ 0 24  0  0  0  0  0  0  2  0]\n",
      " [ 0  0 14  1  1  0  0  0  0  0]\n",
      " [ 0  0  0 18  0  3  0  0  1  1]\n",
      " [ 0  1  0  0 17  0  0  0  0  2]\n",
      " [ 1  0  0  1  0  6  0  1  0  1]\n",
      " [ 1  2  1  0  0  0 20  0  0  0]\n",
      " [ 0  0  0  0  1  0  0 15  0  0]\n",
      " [ 0  2  0  1  0  3  0  0 11  0]\n",
      " [ 0  0  0  0  2  0  0  2  1 21]]\n"
     ]
    }
   ],
   "source": [
    "print(confusion_matrix(y_test, clf4.predict(X_test)))"
   ]
  },
  {
   "cell_type": "markdown",
   "metadata": {},
   "source": [
    "**Reponse :** ````Une matrice de confusion```` est un résumé des résultats de prédictions sur un problème de classification. Les prédictions correctes et incorrectes sont mises en lumière et réparties par classe. Les résultats sont ainsi comparés avec les valeurs réelles.\n",
    "\n",
    "Cette matrice permet de comprendre de quelle façon le modèle de classification est confus lorsqu’il effectue des prédictions. Ceci permet non seulement de savoir quelles sont les erreurs commises, mais surtout le type d’erreurs commises. Les utilisateurs peuvent les analyser pour déterminer quels résultats indiquent comment les erreurs sont commises.\n",
    "\n",
    "les valeurs sur la diagonale renseigne les valeurs bien prédictes par le modèle. les autres valeursrefletent le nombre de fausse prédiction commis par le modèle\n",
    "Ici on peut voir que le modèle a prédit une valeur 6 alors qu'elle était 1 Ainsi de suite "
   ]
  },
  {
   "cell_type": "code",
   "execution_count": 92,
   "metadata": {},
   "outputs": [
    {
     "name": "stdout",
     "output_type": "stream",
     "text": [
      "Returned hyperparameter: {'max_depth': 4}\n",
      "Best Balanced accuracy in train is: 0.8775026900963933\n",
      "Balanced accuracy on test is: 0.885\n"
     ]
    }
   ],
   "source": [
    "from sklearn.ensemble import GradientBoostingClassifier\n",
    "\n",
    "parameters = {'max_depth':[3,4,5]} # définir l'espace des paramètres\n",
    "\n",
    "clf5 = GridSearchCV(GradientBoostingClassifier(), parameters, cv=3)\n",
    "clf5.fit(X_train, y_train)\n",
    "\n",
    "print('Returned hyperparameter: {}'.format(clf5.best_params_))\n",
    "print('Best Balanced accuracy in train is: {}'.format(clf5.best_score_))\n",
    "print('Balanced accuracy on test is: {}'.format(clf5.score(X_test, y_test)))\n"
   ]
  },
  {
   "cell_type": "markdown",
   "metadata": {},
   "source": [
    "# PARTIE 2 -- Problème"
   ]
  },
  {
   "cell_type": "markdown",
   "metadata": {},
   "source": [
    "Les données que nous avons contiennent des images provenant de $10$ classes. Normalement, la précision est un choix raisonnable pour la fonction de perte à optimiser, mais dans ce problème, nous n'aimons *vraiment* pas quand on prédit les chiffres de la classe $ \\{5, 6, 7, 8, 9 \\}$ dans la classe $ \\{0, 1, 2, 3, 4 \\} $. \n",
    "\n",
    "**Question:** Proposez une fonction de perte qui répondrait à nos besoins. Expliquez votre choix. \n",
    "\n",
    "**Question:** En suivant les exemples ci-dessus, créez un pipeline ML qui utilise *votre* fonction de perte et trouve les classifiers appropriés.\n",
    "\n",
    "Lors de la rédaction de votre rapport sur cette partie, incluez:\n",
    "    1. description de votre fonction de perte\n",
    "    2. description du pipeline\n",
    "    3. description des algorithmes que vous avez utilisés "
   ]
  },
  {
   "cell_type": "code",
   "execution_count": 35,
   "metadata": {},
   "outputs": [],
   "source": [
    "from sklearn.metrics import accuracy_score"
   ]
  },
  {
   "cell_type": "markdown",
   "metadata": {},
   "source": [
    "**Reponse :** description de votre fonction de perte\n",
    " \n",
    "   Dans la classification multi-label, cette fonction calcule la précision du sous-ensemble : l'ensemble des étiquettes prédites pour un échantillon doit correspondre exactement à l'ensemble correspondant des étiquettes dans y_true."
   ]
  },
  {
   "cell_type": "markdown",
   "metadata": {},
   "source": [
    "**Reponse :**Description du pipeline\n",
    "\n",
    "Un Pipeline est un méta-opérateur qui permet d’enchaîner plusieurs calculs, pourvu que les classes mises à contribution \n",
    "implémentent les fonctions fit() (apprentissage) et transform() (projection). Les mécanismes de \n",
    "classes de Python et la forte cohérence des objets de « scikit-learn » font merveille ici."
   ]
  },
  {
   "cell_type": "code",
   "execution_count": null,
   "metadata": {},
   "outputs": [],
   "source": [
    "import xgboost as xgb\n",
    "from sklearn.pipeline import Pipeline\n",
    "from sklearn.model_selection import GridSearchCV, RandomizedSearchCV\n",
    "from sklearn.metrics import f1_score, confusion_matrix, classification_report"
   ]
  },
  {
   "cell_type": "code",
   "execution_count": null,
   "metadata": {},
   "outputs": [],
   "source": [
    "model = xgb.XGBClassifier()\n",
    "\n",
    "pipeline = Pipeline([\n",
    "    ('standard_scaler', StandardScaler()), \n",
    "    ('model', model)\n",
    "])\n",
    "\n",
    "param_grid = {\n",
    "    'model__max_depth': [2, 3, 5, 7, 10],\n",
    "    'model__n_estimators': [10, 100, 500]\n",
    "}\n",
    "\n",
    "clf_1 = GridSearchCV(pipeline, param_grid, cv=3, n_jobs=-1, scoring='accuracy')\n",
    "\n",
    "clf_1.fit(X_train, y_train)\n",
    "\n",
    "\n",
    "print(classification_report(y_test, y_pred))\n",
    "print('Returned hyperparameter: {}'.format(clf_1.best_params_))\n",
    "print('Best Score accuracy in train is: {}'.format(clf_1.best_score_))\n",
    "print('Score accuracy on test is: {}'.format(clf_1.score(X_test, y_test)))"
   ]
  },
  {
   "cell_type": "code",
   "execution_count": null,
   "metadata": {},
   "outputs": [],
   "source": [
    "pipeline.get_params().keys() # Affiche les hyperparamètre de notre pipeline"
   ]
  },
  {
   "cell_type": "markdown",
   "metadata": {},
   "source": [
    "## KNN"
   ]
  },
  {
   "cell_type": "code",
   "execution_count": 37,
   "metadata": {},
   "outputs": [],
   "source": [
    "from sklearn.neighbors import KNeighborsClassifier\n",
    "from sklearn.pipeline import make_pipeline\n",
    "from sklearn.preprocessing import StandardScaler\n",
    "from sklearn.model_selection import GridSearchCV"
   ]
  },
  {
   "cell_type": "code",
   "execution_count": 38,
   "metadata": {},
   "outputs": [
    {
     "data": {
      "text/plain": [
       "dict_keys(['memory', 'steps', 'verbose', 'standardscaler', 'kneighborsclassifier', 'standardscaler__copy', 'standardscaler__with_mean', 'standardscaler__with_std', 'kneighborsclassifier__algorithm', 'kneighborsclassifier__leaf_size', 'kneighborsclassifier__metric', 'kneighborsclassifier__metric_params', 'kneighborsclassifier__n_jobs', 'kneighborsclassifier__n_neighbors', 'kneighborsclassifier__p', 'kneighborsclassifier__weights'])"
      ]
     },
     "execution_count": 38,
     "metadata": {},
     "output_type": "execute_result"
    }
   ],
   "source": [
    "KNN = make_pipeline(StandardScaler(), KNeighborsClassifier())\n",
    "KNN.get_params().keys()"
   ]
  },
  {
   "cell_type": "code",
   "execution_count": 39,
   "metadata": {},
   "outputs": [
    {
     "name": "stdout",
     "output_type": "stream",
     "text": [
      "Returned hyperparameter: {'kneighborsclassifier__n_neighbors': 3, 'kneighborsclassifier__weights': 'uniform'}\n",
      "Best Balanced accuracy in train is: 0.8405833977068203\n",
      "Balanced accuracy on test is: 0.8553555151157454\n"
     ]
    }
   ],
   "source": [
    "KNN = make_pipeline(StandardScaler(), KNeighborsClassifier())\n",
    "grid_param = {'kneighborsclassifier__n_neighbors': [3,5,11,19],\n",
    "             'kneighborsclassifier__weights': ['uniform', 'manhattan']\n",
    "             } # définir l'espace des paramètres\n",
    "balanced_scorer = make_scorer(balanced_accuracy_score)\n",
    "\n",
    "clf5 = GridSearchCV(KNN, grid_param, cv=3, scoring=balanced_scorer)\n",
    "clf5.fit(X_train, y_train)\n",
    "\n",
    "print('Returned hyperparameter: {}'.format(clf5.best_params_))\n",
    "print('Best Balanced accuracy in train is: {}'.format(clf5.best_score_))\n",
    "print('Balanced accuracy on test is: {}'.format(clf5.score(X_test, y_test)))"
   ]
  },
  {
   "cell_type": "markdown",
   "metadata": {},
   "source": [
    "Commentaire du modèle KNeighborsClassifier(): \n",
    "Notre fonction nous retourne les meilleurs hyperparamètres de notre modèle.\n",
    "Par exemple 'kneighborsclassifier__n_neighbors': 3  est le meilleurs paramètre utilsé parmis le dictionnaire de parametre \n",
    "'kneighborsclassifier__n_neighbors': [3,5,11,19]\n",
    "\n",
    "'kneighborsclassifier__weights': 'uniform' est la meilleur distance utilsé.\n",
    "Notre modèle à un score de : Best Balanced accuracy in train is: 0.8405833977068203."
   ]
  },
  {
   "cell_type": "markdown",
   "metadata": {},
   "source": [
    "Je peut utilsé aussi une autre méthode qui s'appelle RandomizedSearchCV pour le modélé SVC.\n",
    "\n",
    "RandomizedSearchCV met en œuvre une méthode « fit » et « score ». Il met également en œuvre des « score_samples », « prévoir », « predict_proba », « decision_function », « transformer » et « inverse_transform » s’ils sont mis en œuvre dans l’estimateur utilisé.\n",
    "\n",
    "Les paramètres de l’estimateur utilisé pour appliquer ces méthodes sont optimisés par une recherche validée croisée sur les paramètres.\n",
    "\n",
    "Contrairement à GridSearchCV, toutes les valeurs de paramètres ne sont pas essayées, mais un nombre fixe de paramètres est échantillonné à partir des distributions spécifiées. Le nombre de paramètres essayés est donné par n_iter"
   ]
  },
  {
   "cell_type": "markdown",
   "metadata": {},
   "source": [
    "## SVC"
   ]
  },
  {
   "cell_type": "code",
   "execution_count": 41,
   "metadata": {},
   "outputs": [
    {
     "data": {
      "text/plain": [
       "dict_keys(['memory', 'steps', 'verbose', 'standardscaler', 'svc', 'standardscaler__copy', 'standardscaler__with_mean', 'standardscaler__with_std', 'svc__C', 'svc__break_ties', 'svc__cache_size', 'svc__class_weight', 'svc__coef0', 'svc__decision_function_shape', 'svc__degree', 'svc__gamma', 'svc__kernel', 'svc__max_iter', 'svc__probability', 'svc__random_state', 'svc__shrinking', 'svc__tol', 'svc__verbose'])"
      ]
     },
     "execution_count": 41,
     "metadata": {},
     "output_type": "execute_result"
    }
   ],
   "source": [
    "from sklearn.svm import SVC\n",
    "from sklearn.pipeline import make_pipeline\n",
    "from sklearn.preprocessing import StandardScaler\n",
    "from sklearn.model_selection import GridSearchCV, RandomizedSearchCV\n",
    "from sklearn.metrics import f1_score, confusion_matrix, classification_report\n",
    "\n",
    "SVM = make_pipeline(StandardScaler(), SVC(random_state=0))\n",
    "SVM.get_params().keys()"
   ]
  },
  {
   "cell_type": "code",
   "execution_count": 42,
   "metadata": {},
   "outputs": [
    {
     "name": "stdout",
     "output_type": "stream",
     "text": [
      "{'svc__gamma': 0.001, 'svc__C': 10}\n",
      "              precision    recall  f1-score   support\n",
      "\n",
      "           0       0.88      1.00      0.94        22\n",
      "           1       0.92      0.88      0.90        26\n",
      "           2       0.74      0.88      0.80        16\n",
      "           3       0.88      0.91      0.89        23\n",
      "           4       0.90      0.95      0.93        20\n",
      "           5       0.83      1.00      0.91        10\n",
      "           6       1.00      0.79      0.88        24\n",
      "           7       0.94      1.00      0.97        16\n",
      "           8       1.00      0.76      0.87        17\n",
      "           9       0.92      0.88      0.90        26\n",
      "\n",
      "    accuracy                           0.90       200\n",
      "   macro avg       0.90      0.91      0.90       200\n",
      "weighted avg       0.91      0.90      0.90       200\n",
      "\n"
     ]
    }
   ],
   "source": [
    "SVM = make_pipeline(StandardScaler(), SVC(random_state=0))\n",
    "hyper_params = {'svc__gamma':[1e-3, 1e-4, 0.0005],\n",
    "               'svc__C':[1, 10, 100, 1000, 3000]\n",
    "              }\n",
    "grid = RandomizedSearchCV(SVM, hyper_params, scoring='accuracy', cv=3,\n",
    "                         n_iter=40)\n",
    "\n",
    "grid.fit(X_train, y_train)\n",
    "\n",
    "print(grid.best_params_)\n",
    "\n",
    "y_pred = grid.predict(X_test)\n",
    "\n",
    "print(classification_report(y_test, y_pred))\n",
    "\n"
   ]
  },
  {
   "cell_type": "markdown",
   "metadata": {},
   "source": [
    "## NLP CLassifier"
   ]
  },
  {
   "cell_type": "code",
   "execution_count": 44,
   "metadata": {},
   "outputs": [],
   "source": [
    "from sklearn.neural_network import MLPClassifier"
   ]
  },
  {
   "cell_type": "code",
   "execution_count": 45,
   "metadata": {},
   "outputs": [
    {
     "name": "stdout",
     "output_type": "stream",
     "text": [
      "Accuracy of ANN classifier on tranning set: 1.00)\n",
      "Accuracy of ANN classifier on test set: 0.87)\n"
     ]
    }
   ],
   "source": [
    "clf = MLPClassifier(hidden_layer_sizes = [200, 200], alpha = 10,\n",
    "                   random_state = 0, solver = 'lbfgs').fit(X_train, y_train)\n",
    "\n",
    "print('Accuracy of ANN classifier on tranning set: {:.2f})'\n",
    "      .format(clf.score(X_train, y_train)))\n",
    "\n",
    "print('Accuracy of ANN classifier on test set: {:.2f})'\n",
    "      .format(clf.score(X_test, y_test)))\n",
    "\n"
   ]
  },
  {
   "cell_type": "code",
   "execution_count": null,
   "metadata": {},
   "outputs": [],
   "source": []
  }
 ],
 "metadata": {
  "celltoolbar": "Raw Cell Format",
  "kernelspec": {
   "display_name": "Python 3",
   "language": "python",
   "name": "python3"
  },
  "language_info": {
   "codemirror_mode": {
    "name": "ipython",
    "version": 3
   },
   "file_extension": ".py",
   "mimetype": "text/x-python",
   "name": "python",
   "nbconvert_exporter": "python",
   "pygments_lexer": "ipython3",
   "version": "3.7.0"
  }
 },
 "nbformat": 4,
 "nbformat_minor": 2
}
