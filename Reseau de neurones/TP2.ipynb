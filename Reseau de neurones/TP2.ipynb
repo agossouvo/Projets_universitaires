{
 "cells": [
  {
   "cell_type": "markdown",
   "metadata": {},
   "source": [
    "<h1><center> TP2 : Pandas, Librairie d'analyse de données </center></h1>\n",
    "\n",
    "Le but de ce TP est de se familiariser avec la classe 'pandas' de Python. Cette bibliothèque est souvent utilisée pour l'analyse des données et est pratique pour les outils de manipulation.\n",
    "Nous considérons une étude de cas basée sur un ensemble de données contenant des informations sur les réservations de deux hôtels. L'Hôtel 1 est un complexe hôtelier et l'Hôtel 2 est un hôtel de centre-ville au Portugal. L'ensemble de données a été publié par https://www.sciencedirect.com/science/article/pii/S2352340918315191.\n",
    "\n",
    "Nous listons d'abord les fonctions de base de pandas. La PARTIE 1 vise à utiliser pandas comme outils de visualisation pour une meilleure compréhension des données. La PARTIE 2 montre à quel point il est facile de combiner des dataframes \"pandas\" et des modèles \"sklearn\" pour créer des fonctionnalités supplémentaires et prévoir. \n",
    "\n",
    "\n",
    "En guise de devoirs, nous vous proposons un problème très concret qui est ouvert et pour lequel nous attendons votre créativité (comme d'habitude)! "
   ]
  },
  {
   "cell_type": "code",
   "execution_count": 2,
   "metadata": {},
   "outputs": [],
   "source": [
    "import numpy as np\n",
    "import seaborn as sns\n",
    "import pandas as pd\n",
    "import matplotlib.pyplot as plt\n",
    "%matplotlib notebook"
   ]
  },
  {
   "cell_type": "markdown",
   "metadata": {},
   "source": [
    "# Petite intro à pandas"
   ]
  },
  {
   "cell_type": "code",
   "execution_count": 3,
   "metadata": {},
   "outputs": [],
   "source": [
    "data = pd.read_csv(\"bookings.csv\") "
   ]
  },
  {
   "cell_type": "code",
   "execution_count": 4,
   "metadata": {},
   "outputs": [
    {
     "data": {
      "text/html": [
       "<div>\n",
       "<style scoped>\n",
       "    .dataframe tbody tr th:only-of-type {\n",
       "        vertical-align: middle;\n",
       "    }\n",
       "\n",
       "    .dataframe tbody tr th {\n",
       "        vertical-align: top;\n",
       "    }\n",
       "\n",
       "    .dataframe thead th {\n",
       "        text-align: right;\n",
       "    }\n",
       "</style>\n",
       "<table border=\"1\" class=\"dataframe\">\n",
       "  <thead>\n",
       "    <tr style=\"text-align: right;\">\n",
       "      <th></th>\n",
       "      <th>hotel</th>\n",
       "      <th>is_canceled</th>\n",
       "      <th>lead_time</th>\n",
       "      <th>arrival_date_year</th>\n",
       "      <th>arrival_date_month</th>\n",
       "      <th>arrival_date_week_number</th>\n",
       "      <th>arrival_date_day_of_month</th>\n",
       "      <th>stays_in_weekend_nights</th>\n",
       "      <th>stays_in_week_nights</th>\n",
       "      <th>adults</th>\n",
       "      <th>...</th>\n",
       "      <th>deposit_type</th>\n",
       "      <th>agent</th>\n",
       "      <th>company</th>\n",
       "      <th>days_in_waiting_list</th>\n",
       "      <th>customer_type</th>\n",
       "      <th>adr</th>\n",
       "      <th>required_car_parking_spaces</th>\n",
       "      <th>total_of_special_requests</th>\n",
       "      <th>reservation_status</th>\n",
       "      <th>reservation_status_date</th>\n",
       "    </tr>\n",
       "  </thead>\n",
       "  <tbody>\n",
       "    <tr>\n",
       "      <th>0</th>\n",
       "      <td>Resort Hotel</td>\n",
       "      <td>0</td>\n",
       "      <td>342</td>\n",
       "      <td>2015</td>\n",
       "      <td>July</td>\n",
       "      <td>27</td>\n",
       "      <td>1</td>\n",
       "      <td>0</td>\n",
       "      <td>0</td>\n",
       "      <td>2</td>\n",
       "      <td>...</td>\n",
       "      <td>No Deposit</td>\n",
       "      <td>NaN</td>\n",
       "      <td>NaN</td>\n",
       "      <td>0</td>\n",
       "      <td>Transient</td>\n",
       "      <td>0.0</td>\n",
       "      <td>0</td>\n",
       "      <td>0</td>\n",
       "      <td>Check-Out</td>\n",
       "      <td>2015-07-01</td>\n",
       "    </tr>\n",
       "    <tr>\n",
       "      <th>1</th>\n",
       "      <td>Resort Hotel</td>\n",
       "      <td>0</td>\n",
       "      <td>737</td>\n",
       "      <td>2015</td>\n",
       "      <td>July</td>\n",
       "      <td>27</td>\n",
       "      <td>1</td>\n",
       "      <td>0</td>\n",
       "      <td>0</td>\n",
       "      <td>2</td>\n",
       "      <td>...</td>\n",
       "      <td>No Deposit</td>\n",
       "      <td>NaN</td>\n",
       "      <td>NaN</td>\n",
       "      <td>0</td>\n",
       "      <td>Transient</td>\n",
       "      <td>0.0</td>\n",
       "      <td>0</td>\n",
       "      <td>0</td>\n",
       "      <td>Check-Out</td>\n",
       "      <td>2015-07-01</td>\n",
       "    </tr>\n",
       "    <tr>\n",
       "      <th>2</th>\n",
       "      <td>Resort Hotel</td>\n",
       "      <td>0</td>\n",
       "      <td>7</td>\n",
       "      <td>2015</td>\n",
       "      <td>July</td>\n",
       "      <td>27</td>\n",
       "      <td>1</td>\n",
       "      <td>0</td>\n",
       "      <td>1</td>\n",
       "      <td>1</td>\n",
       "      <td>...</td>\n",
       "      <td>No Deposit</td>\n",
       "      <td>NaN</td>\n",
       "      <td>NaN</td>\n",
       "      <td>0</td>\n",
       "      <td>Transient</td>\n",
       "      <td>75.0</td>\n",
       "      <td>0</td>\n",
       "      <td>0</td>\n",
       "      <td>Check-Out</td>\n",
       "      <td>2015-07-02</td>\n",
       "    </tr>\n",
       "    <tr>\n",
       "      <th>3</th>\n",
       "      <td>Resort Hotel</td>\n",
       "      <td>0</td>\n",
       "      <td>13</td>\n",
       "      <td>2015</td>\n",
       "      <td>July</td>\n",
       "      <td>27</td>\n",
       "      <td>1</td>\n",
       "      <td>0</td>\n",
       "      <td>1</td>\n",
       "      <td>1</td>\n",
       "      <td>...</td>\n",
       "      <td>No Deposit</td>\n",
       "      <td>304.0</td>\n",
       "      <td>NaN</td>\n",
       "      <td>0</td>\n",
       "      <td>Transient</td>\n",
       "      <td>75.0</td>\n",
       "      <td>0</td>\n",
       "      <td>0</td>\n",
       "      <td>Check-Out</td>\n",
       "      <td>2015-07-02</td>\n",
       "    </tr>\n",
       "    <tr>\n",
       "      <th>4</th>\n",
       "      <td>Resort Hotel</td>\n",
       "      <td>0</td>\n",
       "      <td>14</td>\n",
       "      <td>2015</td>\n",
       "      <td>July</td>\n",
       "      <td>27</td>\n",
       "      <td>1</td>\n",
       "      <td>0</td>\n",
       "      <td>2</td>\n",
       "      <td>2</td>\n",
       "      <td>...</td>\n",
       "      <td>No Deposit</td>\n",
       "      <td>240.0</td>\n",
       "      <td>NaN</td>\n",
       "      <td>0</td>\n",
       "      <td>Transient</td>\n",
       "      <td>98.0</td>\n",
       "      <td>0</td>\n",
       "      <td>1</td>\n",
       "      <td>Check-Out</td>\n",
       "      <td>2015-07-03</td>\n",
       "    </tr>\n",
       "  </tbody>\n",
       "</table>\n",
       "<p>5 rows × 32 columns</p>\n",
       "</div>"
      ],
      "text/plain": [
       "          hotel  is_canceled  lead_time  arrival_date_year arrival_date_month  \\\n",
       "0  Resort Hotel            0        342               2015               July   \n",
       "1  Resort Hotel            0        737               2015               July   \n",
       "2  Resort Hotel            0          7               2015               July   \n",
       "3  Resort Hotel            0         13               2015               July   \n",
       "4  Resort Hotel            0         14               2015               July   \n",
       "\n",
       "   arrival_date_week_number  arrival_date_day_of_month  \\\n",
       "0                        27                          1   \n",
       "1                        27                          1   \n",
       "2                        27                          1   \n",
       "3                        27                          1   \n",
       "4                        27                          1   \n",
       "\n",
       "   stays_in_weekend_nights  stays_in_week_nights  adults  ...  deposit_type  \\\n",
       "0                        0                     0       2  ...    No Deposit   \n",
       "1                        0                     0       2  ...    No Deposit   \n",
       "2                        0                     1       1  ...    No Deposit   \n",
       "3                        0                     1       1  ...    No Deposit   \n",
       "4                        0                     2       2  ...    No Deposit   \n",
       "\n",
       "   agent company days_in_waiting_list customer_type   adr  \\\n",
       "0    NaN     NaN                    0     Transient   0.0   \n",
       "1    NaN     NaN                    0     Transient   0.0   \n",
       "2    NaN     NaN                    0     Transient  75.0   \n",
       "3  304.0     NaN                    0     Transient  75.0   \n",
       "4  240.0     NaN                    0     Transient  98.0   \n",
       "\n",
       "   required_car_parking_spaces  total_of_special_requests  reservation_status  \\\n",
       "0                            0                          0           Check-Out   \n",
       "1                            0                          0           Check-Out   \n",
       "2                            0                          0           Check-Out   \n",
       "3                            0                          0           Check-Out   \n",
       "4                            0                          1           Check-Out   \n",
       "\n",
       "  reservation_status_date  \n",
       "0              2015-07-01  \n",
       "1              2015-07-01  \n",
       "2              2015-07-02  \n",
       "3              2015-07-02  \n",
       "4              2015-07-03  \n",
       "\n",
       "[5 rows x 32 columns]"
      ]
     },
     "execution_count": 4,
     "metadata": {},
     "output_type": "execute_result"
    }
   ],
   "source": [
    "data.head(5) # imprimer les 5 premières entrées des données"
   ]
  },
  {
   "cell_type": "code",
   "execution_count": 5,
   "metadata": {},
   "outputs": [
    {
     "data": {
      "text/plain": [
       "Index(['hotel', 'is_canceled', 'lead_time', 'arrival_date_year',\n",
       "       'arrival_date_month', 'arrival_date_week_number',\n",
       "       'arrival_date_day_of_month', 'stays_in_weekend_nights',\n",
       "       'stays_in_week_nights', 'adults', 'children', 'babies', 'meal',\n",
       "       'country', 'market_segment', 'distribution_channel',\n",
       "       'is_repeated_guest', 'previous_cancellations',\n",
       "       'previous_bookings_not_canceled', 'reserved_room_type',\n",
       "       'assigned_room_type', 'booking_changes', 'deposit_type', 'agent',\n",
       "       'company', 'days_in_waiting_list', 'customer_type', 'adr',\n",
       "       'required_car_parking_spaces', 'total_of_special_requests',\n",
       "       'reservation_status', 'reservation_status_date'],\n",
       "      dtype='object')"
      ]
     },
     "execution_count": 5,
     "metadata": {},
     "output_type": "execute_result"
    }
   ],
   "source": [
    "data.columns # donne les noms des colonnes"
   ]
  },
  {
   "cell_type": "markdown",
   "metadata": {},
   "source": [
    "Cet ensemble de données contient des informations sur les réservations de deux hôtels. L'Hôtel 1 est un complexe hôtelier et l'Hôtel 2 est un hôtel de centre-ville au Portugal. L'ensemble de données a été publié par https://www.sciencedirect.com/science/article/pii/S2352340918315191.\n",
    "\n",
    "Ces données ont 32 columns :\n",
    "\n",
    "1. **hotel** -- un des deux hotels\n",
    "2. **is_canceled** -- valeur indiquant si la réservation a été annulée (1) ou non (0) \n",
    "3. **lead_time** -- nombre de jours écoulés entre la date d'entrée de la réservation dans le PMS et la date d'arrivée \n",
    "4. ....\n",
    "\n",
    "Pour une description complète de chaque colonne, veuillez consulter : https://www.kaggle.com/jessemostipak/hotel-booking-demand"
   ]
  },
  {
   "cell_type": "code",
   "execution_count": 6,
   "metadata": {},
   "outputs": [
    {
     "data": {
      "text/plain": [
       "0         PRT\n",
       "1         PRT\n",
       "2         GBR\n",
       "3         GBR\n",
       "4         GBR\n",
       "         ... \n",
       "119385    BEL\n",
       "119386    FRA\n",
       "119387    DEU\n",
       "119388    GBR\n",
       "119389    DEU\n",
       "Name: country, Length: 119390, dtype: object"
      ]
     },
     "execution_count": 6,
     "metadata": {},
     "output_type": "execute_result"
    }
   ],
   "source": [
    "data['country'] # on peut aussi voir chaque colonne du jeu de données"
   ]
  },
  {
   "cell_type": "code",
   "execution_count": 8,
   "metadata": {},
   "outputs": [
    {
     "data": {
      "text/plain": [
       "(119390, 32)"
      ]
     },
     "execution_count": 8,
     "metadata": {},
     "output_type": "execute_result"
    }
   ],
   "source": [
    "data.shape"
   ]
  },
  {
   "cell_type": "code",
   "execution_count": 9,
   "metadata": {},
   "outputs": [
    {
     "data": {
      "text/plain": [
       "array(['PRT', 'GBR', 'USA', 'ESP', 'IRL', 'FRA', nan, 'ROU', 'NOR', 'OMN',\n",
       "       'ARG', 'POL', 'DEU', 'BEL', 'CHE', 'CN', 'GRC', 'ITA', 'NLD',\n",
       "       'DNK', 'RUS', 'SWE', 'AUS', 'EST', 'CZE', 'BRA', 'FIN', 'MOZ',\n",
       "       'BWA', 'LUX', 'SVN', 'ALB', 'IND', 'CHN', 'MEX', 'MAR', 'UKR',\n",
       "       'SMR', 'LVA', 'PRI', 'SRB', 'CHL', 'AUT', 'BLR', 'LTU', 'TUR',\n",
       "       'ZAF', 'AGO', 'ISR', 'CYM', 'ZMB', 'CPV', 'ZWE', 'DZA', 'KOR',\n",
       "       'CRI', 'HUN', 'ARE', 'TUN', 'JAM', 'HRV', 'HKG', 'IRN', 'GEO',\n",
       "       'AND', 'GIB', 'URY', 'JEY', 'CAF', 'CYP', 'COL', 'GGY', 'KWT',\n",
       "       'NGA', 'MDV', 'VEN', 'SVK', 'FJI', 'KAZ', 'PAK', 'IDN', 'LBN',\n",
       "       'PHL', 'SEN', 'SYC', 'AZE', 'BHR', 'NZL', 'THA', 'DOM', 'MKD',\n",
       "       'MYS', 'ARM', 'JPN', 'LKA', 'CUB', 'CMR', 'BIH', 'MUS', 'COM',\n",
       "       'SUR', 'UGA', 'BGR', 'CIV', 'JOR', 'SYR', 'SGP', 'BDI', 'SAU',\n",
       "       'VNM', 'PLW', 'QAT', 'EGY', 'PER', 'MLT', 'MWI', 'ECU', 'MDG',\n",
       "       'ISL', 'UZB', 'NPL', 'BHS', 'MAC', 'TGO', 'TWN', 'DJI', 'STP',\n",
       "       'KNA', 'ETH', 'IRQ', 'HND', 'RWA', 'KHM', 'MCO', 'BGD', 'IMN',\n",
       "       'TJK', 'NIC', 'BEN', 'VGB', 'TZA', 'GAB', 'GHA', 'TMP', 'GLP',\n",
       "       'KEN', 'LIE', 'GNB', 'MNE', 'UMI', 'MYT', 'FRO', 'MMR', 'PAN',\n",
       "       'BFA', 'LBY', 'MLI', 'NAM', 'BOL', 'PRY', 'BRB', 'ABW', 'AIA',\n",
       "       'SLV', 'DMA', 'PYF', 'GUY', 'LCA', 'ATA', 'GTM', 'ASM', 'MRT',\n",
       "       'NCL', 'KIR', 'SDN', 'ATF', 'SLE', 'LAO'], dtype=object)"
      ]
     },
     "execution_count": 9,
     "metadata": {},
     "output_type": "execute_result"
    }
   ],
   "source": [
    "data['country'].unique() # liste toutes les valeurs présentes de manière unique dans la colonne"
   ]
  },
  {
   "cell_type": "code",
   "execution_count": 10,
   "metadata": {},
   "outputs": [
    {
     "data": {
      "text/plain": [
       "hotel                             119390\n",
       "is_canceled                       119390\n",
       "lead_time                         119390\n",
       "arrival_date_year                 119390\n",
       "arrival_date_month                119390\n",
       "arrival_date_week_number          119390\n",
       "arrival_date_day_of_month         119390\n",
       "stays_in_weekend_nights           119390\n",
       "stays_in_week_nights              119390\n",
       "adults                            119390\n",
       "children                          119386\n",
       "babies                            119390\n",
       "meal                              119390\n",
       "country                           118902\n",
       "market_segment                    119390\n",
       "distribution_channel              119390\n",
       "is_repeated_guest                 119390\n",
       "previous_cancellations            119390\n",
       "previous_bookings_not_canceled    119390\n",
       "reserved_room_type                119390\n",
       "assigned_room_type                119390\n",
       "booking_changes                   119390\n",
       "deposit_type                      119390\n",
       "agent                             103050\n",
       "company                             6797\n",
       "days_in_waiting_list              119390\n",
       "customer_type                     119390\n",
       "adr                               119390\n",
       "required_car_parking_spaces       119390\n",
       "total_of_special_requests         119390\n",
       "reservation_status                119390\n",
       "reservation_status_date           119390\n",
       "dtype: int64"
      ]
     },
     "execution_count": 10,
     "metadata": {},
     "output_type": "execute_result"
    }
   ],
   "source": [
    "data.count()"
   ]
  },
  {
   "cell_type": "markdown",
   "metadata": {},
   "source": [
    "Cet ensemble de données contient 119390 réservations différentes. Certaines réservations ont des valeurs manquantes. \n"
   ]
  },
  {
   "cell_type": "code",
   "execution_count": 11,
   "metadata": {},
   "outputs": [
    {
     "data": {
      "text/plain": [
       "array([['Resort Hotel', 0, 342, ..., 0, 'Check-Out', '2015-07-01'],\n",
       "       ['Resort Hotel', 0, 737, ..., 0, 'Check-Out', '2015-07-01'],\n",
       "       ['Resort Hotel', 0, 7, ..., 0, 'Check-Out', '2015-07-02'],\n",
       "       ...,\n",
       "       ['City Hotel', 0, 34, ..., 4, 'Check-Out', '2017-09-07'],\n",
       "       ['City Hotel', 0, 109, ..., 0, 'Check-Out', '2017-09-07'],\n",
       "       ['City Hotel', 0, 205, ..., 2, 'Check-Out', '2017-09-07']],\n",
       "      dtype=object)"
      ]
     },
     "execution_count": 11,
     "metadata": {},
     "output_type": "execute_result"
    }
   ],
   "source": [
    "data.values # Un data frame peut être converti en une numpy array:"
   ]
  },
  {
   "cell_type": "code",
   "execution_count": 12,
   "metadata": {},
   "outputs": [
    {
     "data": {
      "text/plain": [
       "array([0, 0, 0, ..., 0, 0, 0], dtype=int64)"
      ]
     },
     "execution_count": 12,
     "metadata": {},
     "output_type": "execute_result"
    }
   ],
   "source": [
    "data['is_canceled'].values"
   ]
  },
  {
   "cell_type": "markdown",
   "metadata": {},
   "source": [
    "Cependant, ce tableau ne peut pas être directement alimenté dans un modèle scikit-learn.\n",
    "\n",
    "1. les valeurs sont hétérogènes (des chaînes de caractères pour les catégories, des entiers et des nombres à virgule)\n",
    "2. certaines valeurs d'attributs sont manquantes "
   ]
  },
  {
   "cell_type": "markdown",
   "metadata": {},
   "source": [
    "# Prédiction d'annulations : Partie I -- visualisation"
   ]
  },
  {
   "cell_type": "markdown",
   "metadata": {},
   "source": [
    "**Nos buts** Le but de cette partie est de fournir quelques exemples de visualisation combinant ```pandas```, ```matplotlib```, ```seaborn```. "
   ]
  },
  {
   "cell_type": "markdown",
   "metadata": {},
   "source": [
    "Nous examinerons une tâche très naturelle et pratique - prédire l'annulation d'une réservation donnée. Bien sûr, le premier instinct du 'praticien ML' moderne est de mettre toutes les données sur un réseau de neurone et d'effectuer un tas de réglages fins. Il y a vraiment beaucoup de problèmes avec une telle approche. Règle générale : explorez vos données avant de créer des pipelines ML! Il est toujours plus intéressant d'étudier les données et de trouver des modèles interprétables. "
   ]
  },
  {
   "cell_type": "markdown",
   "metadata": {},
   "source": [
    "Pandas permet de manipuler l'ensemble de données d'une manière très pratique. Ceux qui connaissent SQL l'apprécieront certainement!\n",
    "\n",
    "En tant que première tâche de visualisation, comprenons quels mois ont le plus grand nombre d'annulations.\n",
    "Nous commençons par créer un nouvel ensemble de données contenant les informations que nous aimerions tracer. "
   ]
  },
  {
   "cell_type": "code",
   "execution_count": null,
   "metadata": {
    "collapsed": true
   },
   "outputs": [],
   "source": [
    "\n",
    "'''\n",
    " On crée un jeu de données pour chaque hôtel .groupby(\"arrival_date_month\") regroupera les observations par mois\n",
    " et la fonction .count() comptera simplement le nombre de réservations pour chaque mois\n",
    "'''\n",
    "n_reserv_H1 = data.loc[(data[\"hotel\"] == \"Resort Hotel\")].groupby(\"arrival_date_month\")[\"hotel\"].count()\n",
    "n_cancel_H1 = data.loc[(data[\"hotel\"] == \"Resort Hotel\")].groupby(\"arrival_date_month\")[\"is_canceled\"].sum()\n",
    "\n",
    "# On fait la même chose pour le deuxième hôtel\n",
    "n_reserv_H2 = data.loc[(data[\"hotel\"] == \"City Hotel\")].groupby(\"arrival_date_month\")[\"hotel\"].count()\n",
    "n_cancel_H2 = data.loc[(data[\"hotel\"] == \"City Hotel\")].groupby(\"arrival_date_month\")[\"is_canceled\"].sum()"
   ]
  },
  {
   "cell_type": "code",
   "execution_count": null,
   "metadata": {},
   "outputs": [],
   "source": [
    "n_reserv_H1.head() # encore une fois, nous pouvons jeter un oeil aux 5 meilleures entrées "
   ]
  },
  {
   "cell_type": "code",
   "execution_count": null,
   "metadata": {},
   "outputs": [],
   "source": [
    "n_reserv_H1['April'] # nombre de réservations pour le Resort Hotel en avril "
   ]
  },
  {
   "cell_type": "code",
   "execution_count": null,
   "metadata": {},
   "outputs": [],
   "source": [
    "n_cancel_H1['April'] # nombre d'annulations pour le Resort Hotel en avril"
   ]
  },
  {
   "cell_type": "code",
   "execution_count": null,
   "metadata": {
    "collapsed": true
   },
   "outputs": [],
   "source": [
    "# enfin, on rassemble tout \n",
    "\n",
    "\n",
    "data_visualH1 = pd.DataFrame({\"hotel\": \"Resort Hotel\",\n",
    "                                \"month\": list(n_reserv_H1.index),\n",
    "                                \"n_booking\": list(n_reserv_H1.values),\n",
    "                                \"n_cancel\": list(n_cancel_H1.values)})\n",
    "data_visualH2 = pd.DataFrame({\"hotel\": \"City Hotel\",\n",
    "                                \"month\": list(n_reserv_H2.index),\n",
    "                                \"n_booking\": list(n_reserv_H2.values),\n",
    "                                \"n_cancel\": list(n_cancel_H2.values)})\n",
    "data_visual = pd.concat([data_visualH1, data_visualH2], ignore_index=True)\n",
    "\n",
    "# remarquez à quel point il est facile d'ajouter une nouvelle colonne. Nous écrivons simplement ce qui suit \n",
    "data_visual[\"percent_cancel\"] = data_visual[\"n_cancel\"] / data_visual[\"n_booking\"] * 100 # pourcentage d'annulations"
   ]
  },
  {
   "cell_type": "code",
   "execution_count": null,
   "metadata": {},
   "outputs": [],
   "source": [
    "data_visual.head() # nos données finales"
   ]
  },
  {
   "cell_type": "code",
   "execution_count": null,
   "metadata": {},
   "outputs": [],
   "source": [
    "# Fournir des graphes est simple une fois que nous avons un bon jeu de données. \n",
    "plt.figure(figsize=(6, 6))\n",
    "sns.barplot(x = \"month\", y = \"percent_cancel\" , hue=\"hotel\",\n",
    "            hue_order = [\"Resort Hotel\", \"City Hotel\"], data=data_visual)\n",
    "plt.title(\"Cancelations per month\")\n",
    "plt.xticks(rotation=45)\n",
    "plt.ylabel(\"Cancelations [%]\")\n",
    "plt.legend()\n",
    "plt.show()"
   ]
  },
  {
   "cell_type": "markdown",
   "metadata": {},
   "source": [
    "Le graphe précédent est sympa, mais l'ordre des mois est très ennuyeux!  \n",
    "\n",
    "**Question 1.** Proposez une solution qui réorganisera le barplot ci-dessus en utilisant l'ordre chronologique mensuelle standard. Astuce: utilisez la fonction ```pd.Categorical()``` de pandas."
   ]
  },
  {
   "cell_type": "markdown",
   "metadata": {},
   "source": [
    "**Question 2.** Fournissez une interprétation du graphique ci-dessus. "
   ]
  },
  {
   "cell_type": "markdown",
   "metadata": {},
   "source": [
    "**Question 3.** Quel sont les deux pays d'origine qui font le plus de réservations dans chaque hôtel ?"
   ]
  },
  {
   "cell_type": "markdown",
   "metadata": {},
   "source": [
    "**Question 4.** Indiquez le nombre d'annulations pour les clients répétés et non répétés pour les deux hôtels.  "
   ]
  },
  {
   "cell_type": "code",
   "execution_count": null,
   "metadata": {},
   "outputs": [],
   "source": [
    "plt.figure(figsize=(6, 6))\n",
    "sns.countplot(x=\"is_canceled\", hue='is_repeated_guest', data=data)\n",
    "plt.title(\"Canceled vs repeated guest\", fontsize=16)\n",
    "plt.plot()"
   ]
  },
  {
   "cell_type": "markdown",
   "metadata": {},
   "source": [
    "La plupart des clients de ces deux hôtels ne sont pas répétés, tandis que les clients répétés sont moins susceptibles d'annuler. "
   ]
  },
  {
   "cell_type": "code",
   "execution_count": null,
   "metadata": {},
   "outputs": [],
   "source": [
    "data_req = data[(data['hotel'] == 'City Hotel')].groupby(['total_of_special_requests', 'is_canceled']).size().unstack(level=1)\n",
    "data_req.plot(kind='bar', stacked=True, figsize=(6,6))\n",
    "plt.title('Special Request vs Cancellation in H2')\n",
    "plt.xlabel('Number of Special Request', fontsize=10)\n",
    "plt.xticks(rotation=300)\n",
    "plt.ylabel('Count', fontsize=10)"
   ]
  },
  {
   "cell_type": "markdown",
   "metadata": {},
   "source": [
    "La plupart des réservations dans l'hôtel de ville n'ont pas de demandes spéciales et l'annulation dans ce cas est presque de 50/50. Cependant, lorsque des demandes spéciales sont effectuées, le taux d'annulation est nettement inférieur. \n",
    "\n",
    "**Question 5.** Faites le même graphe pour l'hôtel de villégiature. Faites vos conclusions."
   ]
  },
  {
   "cell_type": "markdown",
   "metadata": {},
   "source": [
    "# Prédiction d'annulations : Partie II -- ML"
   ]
  },
  {
   "cell_type": "markdown",
   "metadata": {},
   "source": [
    "**Nos buts** Le message principal ici est - ne réinventez pas la roue. Les quelques lignes de code suivantes mettent en évidence la simplicité avec laquelle nous pouvons combiner des dataframes ```pandas``` et des modèles ```sklearn```. En apprenant quelques outils simples (i.e. ```pipeline```, ```gridsearchcv```) notre code devient lisible, compact et peut être utilisé pour créer des fonctionnalités supplémentaires."
   ]
  },
  {
   "cell_type": "code",
   "execution_count": null,
   "metadata": {
    "collapsed": true
   },
   "outputs": [],
   "source": [
    "from sklearn.pipeline import Pipeline\n",
    "from sklearn.compose import ColumnTransformer\n",
    "from sklearn.preprocessing import OneHotEncoder\n",
    "from sklearn.impute import SimpleImputer\n",
    "from sklearn.linear_model import LogisticRegression\n",
    "from sklearn.model_selection import GridSearchCV"
   ]
  },
  {
   "cell_type": "code",
   "execution_count": null,
   "metadata": {
    "collapsed": true
   },
   "outputs": [],
   "source": [
    "numeric_features = [\"lead_time\", \"arrival_date_week_number\", \"total_of_special_requests\"]\n",
    "categorical_features = [\"hotel\", \"market_segment\",\"deposit_type\",\"customer_type\"]\n",
    "features = numeric_features + categorical_features\n",
    "X = data.drop([\"is_canceled\"], axis=1)[features]\n",
    "y = data[\"is_canceled\"]"
   ]
  },
  {
   "cell_type": "markdown",
   "metadata": {},
   "source": [
    "Avant d'utiliser un algorithme ML de sklearn, nous devons gérer les valeurs manquantes. Il n'y a pas de réponse unique sur la façon de traiter les valeurs manquantes dans vos données. Nous utiliserons l'approche la plus simple (peut-être). Tout d'abord, si la variable est numérique et est manquante, nous allons la remplacer par zéro. Deuxièmement, si la variable est catégorielle et est manquante, nous allons définir une nouvelle catégorie et l'appeler ```Not defined```."
   ]
  },
  {
   "cell_type": "code",
   "execution_count": null,
   "metadata": {
    "collapsed": true
   },
   "outputs": [],
   "source": [
    "numeric_transformer = SimpleImputer(strategy=\"constant\", fill_value=0) # to deal with missing numeric data\n",
    "categorical_transformer = Pipeline(steps=[\n",
    "                                    (\"imputer\", SimpleImputer(strategy=\"constant\", fill_value=\"Not defined\")),\n",
    "                                    (\"onehot\", OneHotEncoder(handle_unknown='ignore'))]) # to deal with missing categorical data \n",
    "preproc = ColumnTransformer(transformers=[(\"num\", numeric_transformer, numeric_features),\n",
    "                                          (\"cat\", categorical_transformer, categorical_features)])"
   ]
  },
  {
   "cell_type": "markdown",
   "metadata": {},
   "source": [
    "**Question:** Qu'est-ce que ```OneHotEncoder()``` ? Pourquoi l'utilise-t-on dans notre cas ?"
   ]
  },
  {
   "cell_type": "markdown",
   "metadata": {},
   "source": [
    "Imaginez maintenant une situation où vous voulez essayer beaucoup de modèles différents et pour chaque modèle vous voulez faire une validation croisée pour sélectionner les meilleurs hyperparamètres. En plus de cela, vous souhaitez prétraiter les données afin de fournir quelque chose de significatif dans chaque méthode.\n",
    "\n",
    "Le morceau de code suivant montre comment le faire. "
   ]
  },
  {
   "cell_type": "code",
   "execution_count": null,
   "metadata": {},
   "outputs": [],
   "source": [
    "models = [(\"logreg\", LogisticRegression(max_iter=500))]\n",
    "grids = {\"logreg\" : {'logreg__C': np.logspace(-2, 2, 5, base=2)}}\n",
    "for name, model in models:\n",
    "    pipe = Pipeline(steps=[('preprocessor', preproc), (name, model)])\n",
    "    clf = GridSearchCV(pipe, grids[name], cv=3)\n",
    "    clf.fit(X, y)\n",
    "    print('Results for {}'.format(name))\n",
    "    print(clf.cv_results_)"
   ]
  },
  {
   "cell_type": "markdown",
   "metadata": {},
   "source": [
    "**Question:** Dans l'exemple précédent, nous rencontrons à nouveau le problème de convergence. Bien sûr, nous pouvons définir un nombre plus élevé d'itérations, mais cela prend du temps. Comme vous l'avez vu, une normalisation appropriée peut résoudre le problème. Insérez une étape de normalisation dans le pipeline. Notez que nous ne voulons pas normaliser les données catégorielles, cela n'a tout simplement pas de sens. Veillez à ne normaliser que les données numériques. Est-ce que ça a résolu l'avertissement? \n",
    "\n",
    "**Question:** Comme nous pouvons le voir, le code précédent n'utilise que la régression logistique. Modifiez le code ci-dessus en insérant votre méthode ML préférée. \n",
    "\n",
    "**Remark:** Notez que dans cette partie, nous n'avons sélectionné qu'un petit sous-ensemble de fonctionnalités. Nous aurions pu également utiliser d'autres fonctionnalités. "
   ]
  },
  {
   "cell_type": "markdown",
   "metadata": {},
   "source": [
    "# Les devoirs"
   ]
  },
  {
   "cell_type": "markdown",
   "metadata": {},
   "source": [
    "**L'histoire !**\n",
    "Vous êtes un data scientist travaillant pour l'hôtel, un jour le manager vient vous dire :\n",
    "\n",
    "Dans nos hôtels, nous avons la possibilité d'offrir une place de parking, ce qui coûte de l'argent. Apparemment, tous les clients ne sont pas conscients que nous avons une telle option. Je veux vraiment proposer des places de parking à tous ceux qui en ont besoin, car l'hôtel peut gagner plus d'argent comme ça. Écoutez, je peux envoyer une notification par SMS à nos clients. Bien sûr, les SMS ne sont pas gratuits et, de plus, les gens sont très en colère s'ils reçoivent des notifications stupides sans raison. Pour chaque nouvelle réservation, j'aimerais décider si je dois ou non envoyer la notification au client.  \n",
    "\n",
    "**Problème** Explorez vos données pour aider le manager et construire un algorithme de prédiction, en utilisant le modèle ci-dessus comme source d'inspiration. \n",
    "\n",
    "**Attention!** Certaines colonnes ne sont pas réellement disponibles au moment de la réservation. Par exemple, la colonne cible ```is_canceled``` de la partie précédente ne peut clairement pas être observée au moment où nous devons décider d'envoyer le SMS. "
   ]
  },
  {
   "cell_type": "code",
   "execution_count": null,
   "metadata": {
    "collapsed": true
   },
   "outputs": [],
   "source": []
  }
 ],
 "metadata": {
  "kernelspec": {
   "display_name": "Python 3",
   "language": "python",
   "name": "python3"
  },
  "language_info": {
   "codemirror_mode": {
    "name": "ipython",
    "version": 3
   },
   "file_extension": ".py",
   "mimetype": "text/x-python",
   "name": "python",
   "nbconvert_exporter": "python",
   "pygments_lexer": "ipython3",
   "version": "3.7.1"
  }
 },
 "nbformat": 4,
 "nbformat_minor": 2
}
